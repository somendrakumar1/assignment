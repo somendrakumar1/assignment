{
 "cells": [
  {
   "cell_type": "code",
   "execution_count": 1,
   "id": "78bcad08-a949-47e0-94c2-ec2e0e82e8c9",
   "metadata": {},
   "outputs": [],
   "source": [
    "#explain with an example each when to use\n",
    "#for loop and a while loop"
   ]
  },
  {
   "cell_type": "code",
   "execution_count": 2,
   "id": "03ff2326-6007-425b-bb16-f89bb75e1f72",
   "metadata": {},
   "outputs": [
    {
     "name": "stdout",
     "output_type": "stream",
     "text": [
      "for loop is use to iterate over the list,tuple or array \n",
      "1\n",
      "2\n",
      "3\n",
      "4\n",
      "5\n",
      "6\n",
      "7\n",
      "8\n",
      "9\n"
     ]
    }
   ],
   "source": [
    "print(\"for loop is use to iterate over the list,tuple or array \")\n",
    "l=[1,2,3,4,5,6,7,8,9,]\n",
    "for i in l:\n",
    "    print(i)"
   ]
  },
  {
   "cell_type": "code",
   "execution_count": 8,
   "id": "2c4ce13f-699c-4445-991b-baed9f19916c",
   "metadata": {},
   "outputs": [
    {
     "name": "stdout",
     "output_type": "stream",
     "text": [
      "while loop perform under the cundition\n",
      "0\n",
      "1\n",
      "2\n",
      "3\n",
      "4\n",
      "5\n"
     ]
    }
   ],
   "source": [
    "print(\"while loop perform under the cundition\")\n",
    "n=0\n",
    "while n<=5:\n",
    "    print(n)\n",
    "    n=n+1"
   ]
  },
  {
   "cell_type": "code",
   "execution_count": null,
   "id": "52a40a8e-fff0-46e7-aa8d-0e8f81c12dfb",
   "metadata": {},
   "outputs": [],
   "source": [
    "#whrite a python programto print sum and product\n",
    "#of the first 10 natural number using for \n",
    "#and while loop"
   ]
  },
  {
   "cell_type": "code",
   "execution_count": null,
   "id": "b7cf5f9b-b728-4682-b9b0-96e8c3d21b7e",
   "metadata": {},
   "outputs": [],
   "source": [
    "#using for loop sum and product"
   ]
  },
  {
   "cell_type": "code",
   "execution_count": null,
   "id": "169c2f07-3871-49a0-87a1-d4148274b166",
   "metadata": {},
   "outputs": [],
   "source": [
    "#sum"
   ]
  },
  {
   "cell_type": "code",
   "execution_count": 19,
   "id": "648be8d1-1c73-462b-a3d9-e62abca91387",
   "metadata": {},
   "outputs": [
    {
     "name": "stdout",
     "output_type": "stream",
     "text": [
      "1\n",
      "3\n",
      "6\n",
      "10\n",
      "15\n",
      "21\n",
      "28\n",
      "36\n",
      "45\n",
      "55\n"
     ]
    }
   ],
   "source": [
    "result=0\n",
    "for i in range(1,11):\n",
    "    result=result+i\n",
    "    print(result)"
   ]
  },
  {
   "cell_type": "code",
   "execution_count": null,
   "id": "1dfbecc1-b6a7-44aa-91cb-b45b237e9757",
   "metadata": {},
   "outputs": [],
   "source": [
    "#product"
   ]
  },
  {
   "cell_type": "code",
   "execution_count": 20,
   "id": "8aa0ddff-db86-43cd-b857-ca73f0b31a3b",
   "metadata": {},
   "outputs": [
    {
     "name": "stdout",
     "output_type": "stream",
     "text": [
      "1\n",
      "2\n",
      "6\n",
      "24\n",
      "120\n",
      "720\n",
      "5040\n",
      "40320\n",
      "362880\n",
      "3628800\n"
     ]
    }
   ],
   "source": [
    "result=1\n",
    "for i in range(1,11):\n",
    "    result=result*i\n",
    "    print(result)"
   ]
  },
  {
   "cell_type": "code",
   "execution_count": null,
   "id": "847dae94-f82d-41bc-8c15-a8ca9f92be1d",
   "metadata": {},
   "outputs": [],
   "source": [
    "#sum and product using while loop"
   ]
  },
  {
   "cell_type": "code",
   "execution_count": null,
   "id": "7bea8056-5283-432d-81a9-0f332c4bdb17",
   "metadata": {},
   "outputs": [],
   "source": [
    "#sum"
   ]
  },
  {
   "cell_type": "code",
   "execution_count": null,
   "id": "c77ab62b-f015-4f3a-a165-719ba4a5d869",
   "metadata": {},
   "outputs": [],
   "source": [
    "n=0\n",
    "result=0\n",
    "while n<11:\n",
    "    result=result+n\n",
    "    n+=1\n",
    "    print(result)"
   ]
  },
  {
   "cell_type": "code",
   "execution_count": null,
   "id": "c4e5ac74-68a7-4c11-b599-0e90707badf5",
   "metadata": {},
   "outputs": [],
   "source": [
    "#product"
   ]
  },
  {
   "cell_type": "code",
   "execution_count": null,
   "id": "d8830972-c939-4fb2-b97d-b5b2459eea01",
   "metadata": {},
   "outputs": [],
   "source": [
    "n=1\n",
    "result=1\n",
    "while n<11:\n",
    "    result=result*n\n",
    "    n+=1\n",
    "    print(result)"
   ]
  },
  {
   "cell_type": "code",
   "execution_count": null,
   "id": "9523278e-2336-4d37-be9c-1e9bcc91b467",
   "metadata": {},
   "outputs": [],
   "source": [
    "#creat a list of numbers from 1 to 100 \n",
    "#using for and while loop find \n",
    "#cube \n",
    "#if cube is divisible by 4 or 5 then\n",
    "#append that number in list\n"
   ]
  },
  {
   "cell_type": "code",
   "execution_count": 2,
   "id": "df9b8748-0453-4941-9859-da677b4a97d0",
   "metadata": {},
   "outputs": [
    {
     "name": "stdout",
     "output_type": "stream",
     "text": [
      "[0, 2, 4, 5, 6, 8, 10, 12, 14, 15, 16, 18, 20, 22, 24, 25, 26, 28, 30, 32, 34, 35, 36, 38, 40, 42, 44, 45, 46, 48, 50, 52, 54, 55, 56, 58, 60, 62, 64, 65, 66, 68, 70, 72, 74, 75, 76, 78, 80, 82, 84, 85, 86, 88, 90, 92, 94, 95, 96, 98, 100]\n"
     ]
    }
   ],
   "source": [
    "# for loop\n",
    "#create a list of number from 1 to 100\n",
    "numders=list(range(101))\n",
    "cubes=[]\n",
    "for num in numders:\n",
    "    cube=num**3\n",
    "    if cube %4==0 or cube%5==0:\n",
    "        cubes.append(num)\n",
    "print(cubes)"
   ]
  },
  {
   "cell_type": "code",
   "execution_count": 2,
   "id": "9f1de315-4f77-4f77-bf18-7f53d5a7c3c7",
   "metadata": {},
   "outputs": [
    {
     "name": "stdout",
     "output_type": "stream",
     "text": [
      "[0, 2, 4, 5, 6, 8, 10, 12, 14, 15, 16, 18, 20, 22, 24, 25, 26, 28, 30, 32, 34, 35, 36, 38, 40, 42, 44, 45, 46, 48, 50, 52, 54, 55, 56, 58, 60, 62, 64, 65, 66, 68, 70, 72, 74, 75, 76, 78, 80, 82, 84, 85, 86, 88, 90, 92, 94, 95, 96, 98, 100]\n"
     ]
    }
   ],
   "source": [
    "numbers=list(range(101))\n",
    "cubes=[]\n",
    "i=0\n",
    "while i<len(numbers):\n",
    "    num=numbers[i]\n",
    "    cube=num**3\n",
    "    if cube%4==0 or cube%5==0:\n",
    "        cubes.append(num)\n",
    "    i+=1\n",
    "print(cubes)"
   ]
  },
  {
   "cell_type": "code",
   "execution_count": null,
   "id": "be624c45-2c96-490b-89fb-f5838360f0ce",
   "metadata": {},
   "outputs": [],
   "source": [
    "#whrite a program to filter count vowels in the \n",
    "#belows-given string \n",
    "#string =\" i want to become a data scientist\"\n"
   ]
  },
  {
   "cell_type": "code",
   "execution_count": 3,
   "id": "014b2492-1cd3-4800-a662-4e3569a69315",
   "metadata": {},
   "outputs": [
    {
     "name": "stdout",
     "output_type": "stream",
     "text": [
      "number of vowels 12\n"
     ]
    }
   ],
   "source": [
    "string=\"i want to become a data scientist\"\n",
    "vowels=['a','e','i','o','u']\n",
    "vowels_count=0\n",
    "for char in string:\n",
    "    char_lower=char.lower()\n",
    "\n",
    "    if char_lower in vowels:\n",
    "        vowels_count+=1\n",
    "print(\"number of vowels\",vowels_count)"
   ]
  },
  {
   "cell_type": "code",
   "execution_count": null,
   "id": "f1409af5-4a94-48dd-95e2-7ac4d4dbc07f",
   "metadata": {},
   "outputs": [],
   "source": [
    "'''create a python program to compute the electricity bill for a household\n",
    "the per unit charge in rupees are as follows: for first 100 units the user will be charged RS.4.5 per\n",
    "unit for the next 100 units ,the user will be charged RS.6 per units and for\n",
    "next 100 units, the user will be charged RS.10 per units after 300 units and above the\n",
    "user will be charged RS.20 per unit\n",
    "you are required to take the units of electricity consumed in a month from the user as input'''"
   ]
  },
  {
   "cell_type": "code",
   "execution_count": 4,
   "id": "cf940c42-8306-4767-b9c7-8296cc6edc97",
   "metadata": {},
   "outputs": [
    {
     "name": "stdin",
     "output_type": "stream",
     "text": [
      "enter the number of units in a month 310\n"
     ]
    },
    {
     "ename": "NameError",
     "evalue": "name 'p1' is not defined",
     "output_type": "error",
     "traceback": [
      "\u001b[0;31m---------------------------------------------------------------------------\u001b[0m",
      "\u001b[0;31mNameError\u001b[0m                                 Traceback (most recent call last)",
      "Cell \u001b[0;32mIn[4], line 6\u001b[0m\n\u001b[1;32m      4\u001b[0m     \u001b[38;5;28mprint\u001b[39m(p1)\n\u001b[1;32m      5\u001b[0m \u001b[38;5;28;01melif\u001b[39;00m \u001b[38;5;241m100\u001b[39m\u001b[38;5;241m<\u001b[39munits\u001b[38;5;241m>\u001b[39m\u001b[38;5;241m=\u001b[39m\u001b[38;5;241m200\u001b[39m:\n\u001b[0;32m----> 6\u001b[0m     p2\u001b[38;5;241m=\u001b[39m\u001b[43mp1\u001b[49m\u001b[38;5;241m+\u001b[39m(units\u001b[38;5;241m*\u001b[39m\u001b[38;5;241m6\u001b[39m)\n\u001b[1;32m      7\u001b[0m     \u001b[38;5;28mprint\u001b[39m(p2)\n\u001b[1;32m      8\u001b[0m \u001b[38;5;28;01melif\u001b[39;00m \u001b[38;5;241m200\u001b[39m\u001b[38;5;241m<\u001b[39munits\u001b[38;5;241m>\u001b[39m\u001b[38;5;241m=\u001b[39m\u001b[38;5;241m300\u001b[39m:\n",
      "\u001b[0;31mNameError\u001b[0m: name 'p1' is not defined"
     ]
    }
   ],
   "source": [
    "units=int(input(\"enter the number of units in a month\"))\n"
   ]
  },
  {
   "cell_type": "code",
   "execution_count": null,
   "id": "71bbac86-c320-4a59-997b-8ef95b7be8f2",
   "metadata": {},
   "outputs": [],
   "source": []
  }
 ],
 "metadata": {
  "kernelspec": {
   "display_name": "Python 3 (ipykernel)",
   "language": "python",
   "name": "python3"
  },
  "language_info": {
   "codemirror_mode": {
    "name": "ipython",
    "version": 3
   },
   "file_extension": ".py",
   "mimetype": "text/x-python",
   "name": "python",
   "nbconvert_exporter": "python",
   "pygments_lexer": "ipython3",
   "version": "3.10.8"
  }
 },
 "nbformat": 4,
 "nbformat_minor": 5
}
