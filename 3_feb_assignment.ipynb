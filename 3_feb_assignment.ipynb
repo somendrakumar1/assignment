{
 "cells": [
  {
   "cell_type": "code",
   "execution_count": null,
   "id": "7a18fc36-af2b-42fb-b46c-d23ea61c4114",
   "metadata": {},
   "outputs": [],
   "source": [
    "# Which keyword is used to create a function? \n",
    "#Create a function to return a list of odd numbers\n",
    "#in the \n",
    "#range of 1 to 25."
   ]
  },
  {
   "cell_type": "code",
   "execution_count": null,
   "id": "32df8dbe-6c81-4ea1-9d4c-c94553f1667e",
   "metadata": {},
   "outputs": [],
   "source": [
    "print(\"The keyword used to create a function in Python is def\")"
   ]
  },
  {
   "cell_type": "code",
   "execution_count": 17,
   "id": "8ac8f85c-2177-4d12-a52b-aee870f2a5c4",
   "metadata": {},
   "outputs": [],
   "source": [
    "def odd_numbers():\n",
    "    odd_list = []\n",
    "    for num in range(26):\n",
    "        if num%2 !=0:\n",
    "            odd_list.append(num)\n",
    "    return odd_list  \n",
    "#print(odd_numbers)"
   ]
  },
  {
   "cell_type": "code",
   "execution_count": 18,
   "id": "eb198785-534b-43d2-a8ae-45722155fce0",
   "metadata": {},
   "outputs": [],
   "source": [
    "#. Why *args and **kwargs is used \n",
    "#in some functions?\n",
    "#Create a function each for *args and **kwargs \n",
    "#to demonstrate their use"
   ]
  },
  {
   "cell_type": "code",
   "execution_count": 19,
   "id": "472aae6c-aeb8-49d5-9014-914e29b87fdf",
   "metadata": {},
   "outputs": [
    {
     "name": "stdout",
     "output_type": "stream",
     "text": [
      "*args and **kwargs are used in\n",
      "Python functions when we want to pass \n",
      "a variable number of arguments to a function.\n"
     ]
    }
   ],
   "source": [
    "print(\"\"\"*args and **kwargs are used in\n",
    "Python functions when we want to pass \n",
    "a variable number of arguments to a function.\"\"\")"
   ]
  },
  {
   "cell_type": "code",
   "execution_count": 3,
   "id": "4698109b-448d-4a32-84d4-b9b13f6f682e",
   "metadata": {},
   "outputs": [
    {
     "name": "stdout",
     "output_type": "stream",
     "text": [
      "name: Alice\n",
      "age: 25\n",
      "city: New York\n"
     ]
    }
   ],
   "source": [
    "def sum_all(*args):\n",
    "    total = 0\n",
    "    for num in args:\n",
    "        total += num\n",
    "    return total\n",
    "def print_kwargs(**kwargs):\n",
    "    for key, value in kwargs.items():\n",
    "        print(f\"{key}: {value}\")\n",
    "sum_all(1, 2, 3, 4, 5)\n",
    "\n",
    "print_kwargs(name=\"Alice\", age=25, city=\"New York\")"
   ]
  },
  {
   "cell_type": "code",
   "execution_count": null,
   "id": "43ac1736-14b7-402b-b1cf-ec51261d8a72",
   "metadata": {},
   "outputs": [],
   "source": [
    "#  What is an iterator in python? Name the method used to initialise the iterator object and the method \n",
    "#used for iteration. Use these methods to print the first five elements of the given list [2, 4, 6, 8, 10, 12, 14, \n",
    "#16, 18, 20]"
   ]
  },
  {
   "cell_type": "code",
   "execution_count": 4,
   "id": "53f02f7e-17ef-4933-bbda-007799453f90",
   "metadata": {},
   "outputs": [
    {
     "name": "stdout",
     "output_type": "stream",
     "text": [
      "In Python, an iterator is an \n",
      "object that allows you to traverse through a\n",
      "sequence of values. An iterator in Python\n",
      "implements two methods: __iter__() and __next__\n"
     ]
    }
   ],
   "source": [
    "print(\"\"\"In Python, an iterator is an \n",
    "object that allows you to traverse through a\n",
    "sequence of values. An iterator in Python\n",
    "implements two methods: __iter__() and __next__\"\"\")"
   ]
  },
  {
   "cell_type": "code",
   "execution_count": 5,
   "id": "dbbc3055-3bd1-4102-a19d-95d85a7533ff",
   "metadata": {},
   "outputs": [
    {
     "name": "stdout",
     "output_type": "stream",
     "text": [
      "2\n",
      "4\n",
      "6\n",
      "8\n",
      "10\n"
     ]
    }
   ],
   "source": [
    "my_list = [2, 4, 6, 8, 10, 12, 14, 16, 18, 20]\n",
    "\n",
    "my_iterator = iter(my_list)\n",
    "\n",
    "\n",
    "for i in range(5):\n",
    "    print(next(my_iterator))\n"
   ]
  },
  {
   "cell_type": "code",
   "execution_count": null,
   "id": "147cd371-4e8a-4440-bfcb-be4cf33d0e3d",
   "metadata": {},
   "outputs": [],
   "source": [
    "# What is a generator function in python? Why yield keyword is used? Give an example of a generator \n",
    "#function"
   ]
  },
  {
   "cell_type": "code",
   "execution_count": 1,
   "id": "59501808-bd5b-4dde-ac99-d514c5bf9079",
   "metadata": {},
   "outputs": [
    {
     "name": "stdout",
     "output_type": "stream",
     "text": [
      "that allows us to generate a sequence of values\n"
     ]
    }
   ],
   "source": [
    "print(\"that allows us to generate a sequence of values\")\n"
   ]
  },
  {
   "cell_type": "code",
   "execution_count": 3,
   "id": "136788c6-209d-4956-91af-ce7f1456c46a",
   "metadata": {},
   "outputs": [
    {
     "name": "stdout",
     "output_type": "stream",
     "text": [
      "The yield keyword allows the function to\n",
      "pause execution and return a value, and then resume execution \n",
      "from where it left off the next time the generator function is called\n"
     ]
    }
   ],
   "source": [
    "print(\"\"\"The yield keyword allows the function to\n",
    "pause execution and return a value, and then resume execution \n",
    "from where it left off the next time the generator function is called\"\"\")"
   ]
  },
  {
   "cell_type": "code",
   "execution_count": 12,
   "id": "22df701e-7eac-4815-9d15-92e9c9598675",
   "metadata": {},
   "outputs": [
    {
     "name": "stdout",
     "output_type": "stream",
     "text": [
      "0\n",
      "2\n",
      "4\n",
      "6\n",
      "8\n",
      "10\n",
      "12\n",
      "14\n",
      "16\n",
      "18\n"
     ]
    }
   ],
   "source": [
    "#for example\n",
    "def even_numbers():\n",
    "    num = 0\n",
    "    while True:\n",
    "        yield num\n",
    "        num += 2\n",
    "for num in even_numbers():\n",
    "    print(num)\n",
    "    if num >= 18:\n",
    "        break\n"
   ]
  },
  {
   "cell_type": "markdown",
   "id": "e151fdbe-ee61-4fe6-abfa-ca8cbc699ef7",
   "metadata": {},
   "source": [
    "Q5. Create a generator function for prime numbers less than 1000. Use the next() method to print the \n",
    "first 20 prime numbers"
   ]
  },
  {
   "cell_type": "code",
   "execution_count": 6,
   "id": "3ce8541f-be75-48bf-87b6-28af98e7d431",
   "metadata": {},
   "outputs": [
    {
     "name": "stdout",
     "output_type": "stream",
     "text": [
      "2\n",
      "3\n",
      "5\n",
      "7\n",
      "11\n",
      "13\n",
      "17\n",
      "19\n",
      "23\n",
      "29\n",
      "31\n",
      "37\n",
      "41\n",
      "43\n",
      "47\n",
      "53\n",
      "59\n",
      "61\n",
      "67\n",
      "71\n"
     ]
    }
   ],
   "source": [
    "def prime_number():\n",
    "    for n in range(2,1000):\n",
    "        if all(n%i !=0 for i in range(2,int(n**0.5)+1)):\n",
    "            yield n\n",
    "gen = prime_number()\n",
    "for i in range(20):\n",
    "    print(next(gen))"
   ]
  },
  {
   "cell_type": "markdown",
   "id": "3301caa9-49ac-478f-a047-06b5bae8fd48",
   "metadata": {},
   "source": [
    "Q6. Write a python program to print the first 10 Fibonacci numbers using a while loop."
   ]
  },
  {
   "cell_type": "code",
   "execution_count": 8,
   "id": "4b07ab78-8f75-45a7-a64d-316c681eaa65",
   "metadata": {},
   "outputs": [
    {
     "name": "stdout",
     "output_type": "stream",
     "text": [
      "0 1 1 2 3 5 8 13 21 34 "
     ]
    }
   ],
   "source": [
    "a,b=0,1\n",
    "count=0\n",
    "while count<10:\n",
    "    print(a,end=' ')\n",
    "    a,b=b,a+b\n",
    "    count+=1"
   ]
  },
  {
   "cell_type": "markdown",
   "id": "e78bfc2a-f7d4-42d6-9be7-6177072dea39",
   "metadata": {},
   "source": [
    "Write a List Comprehension to iterate through the given string: ‘pwskills’.\n",
    "Expected output: ['p', 'w', 's', 'k', 'i', 'l', 'l', 's']"
   ]
  },
  {
   "cell_type": "code",
   "execution_count": 14,
   "id": "a7a58508-b3d4-4cc2-9300-e4b27ff3052a",
   "metadata": {},
   "outputs": [
    {
     "name": "stdout",
     "output_type": "stream",
     "text": [
      "['p', 'w', 'k', 'i', 'l', 'l', 's']\n"
     ]
    }
   ],
   "source": [
    "str=\"pwakills\"\n",
    "new_list=[char for char in str if char in \"pwskills\"]\n",
    "print(new_list)"
   ]
  },
  {
   "cell_type": "markdown",
   "id": "99f16df7-54f9-4d75-92c3-235297770fca",
   "metadata": {},
   "source": [
    "Q8. Write a python program to check whether a given number is Palindrome or not using a while loop."
   ]
  },
  {
   "cell_type": "code",
   "execution_count": 15,
   "id": "f8beefd5-bd0b-4460-8e6c-33f32748e4a4",
   "metadata": {},
   "outputs": [
    {
     "name": "stdin",
     "output_type": "stream",
     "text": [
      "Enter a number:  23423\n"
     ]
    },
    {
     "name": "stdout",
     "output_type": "stream",
     "text": [
      "23423 is not a palindrome\n"
     ]
    }
   ],
   "source": [
    "num = int(input(\"Enter a number: \"))\n",
    "temp = num\n",
    "rev_num = 0\n",
    "\n",
    "while num > 0:\n",
    "    rev_num = rev_num * 10 + num % 10\n",
    "    num //= 10\n",
    "\n",
    "if temp == rev_num:\n",
    "    print(temp, \"is a palindrome\")\n",
    "else:\n",
    "    print(temp, \"is not a palindrome\")\n"
   ]
  },
  {
   "cell_type": "markdown",
   "id": "91707b95-fad3-4c3d-a471-4bed8a352191",
   "metadata": {},
   "source": [
    "Q9. Write a code to print odd numbers from 1 to 100 using list comprehension."
   ]
  },
  {
   "cell_type": "code",
   "execution_count": 18,
   "id": "dde5a901-af7d-45f6-b5a8-8f263c7c00f2",
   "metadata": {},
   "outputs": [
    {
     "name": "stdout",
     "output_type": "stream",
     "text": [
      "[1, 3, 5, 7, 9, 11, 13, 15, 17, 19, 21, 23, 25, 27, 29, 31, 33, 35, 37, 39, 41, 43, 45, 47, 49, 51, 53, 55, 57, 59, 61, 63, 65, 67, 69, 71, 73, 75, 77, 79, 81, 83, 85, 87, 89, 91, 93, 95, 97, 99]\n"
     ]
    }
   ],
   "source": [
    "\n",
    "i=2\n",
    "odd_num=[n for n in range(1,101) if n%i !=0 ]\n",
    "print(odd_num)\n",
    "    "
   ]
  },
  {
   "cell_type": "code",
   "execution_count": null,
   "id": "53162b2d-8ee5-4a5e-84d9-7fcfabdbcb38",
   "metadata": {},
   "outputs": [],
   "source": []
  }
 ],
 "metadata": {
  "kernelspec": {
   "display_name": "Python 3 (ipykernel)",
   "language": "python",
   "name": "python3"
  },
  "language_info": {
   "codemirror_mode": {
    "name": "ipython",
    "version": 3
   },
   "file_extension": ".py",
   "mimetype": "text/x-python",
   "name": "python",
   "nbconvert_exporter": "python",
   "pygments_lexer": "ipython3",
   "version": "3.10.8"
  }
 },
 "nbformat": 4,
 "nbformat_minor": 5
}
