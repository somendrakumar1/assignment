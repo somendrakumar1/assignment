{
 "cells": [
  {
   "cell_type": "code",
   "execution_count": 1,
   "id": "f0e06a81-e1bd-4e6b-88ab-f9eadfc568e2",
   "metadata": {},
   "outputs": [
    {
     "name": "stdout",
     "output_type": "stream",
     "text": [
      "Flask is a lightweight, flexible, and easy-to-use web framework for building web applications in Python\n",
      "Lightweight: Flask is a micro-framework, which means that it has minimal dependencies and is lightweight.\n",
      "This makes it ideal for building simple web applications and APIs.\n",
      "\n",
      "Flexible: Flask is designed to be highly modular and flexible, which means that you can easily add or remove components\n",
      "as needed. This allows you to create custom web applications tailored to your specific needs.\n",
      "\n",
      "Easy-to-use: Flask is very easy to learn and use, which makes it ideal for beginners. The framework has\n",
      "a simple syntax, and the documentation is extensive and easy to understand.\n"
     ]
    }
   ],
   "source": [
    "#Q1. What is Flask Framework? What are the advantages of Flask Framework?\n",
    "print(\"\"\"Flask is a lightweight, flexible, and easy-to-use web framework for building web applications in Python\"\"\")\n",
    "print(\"\"\"Lightweight: Flask is a micro-framework, which means that it has minimal dependencies and is lightweight.\n",
    "This makes it ideal for building simple web applications and APIs.\n",
    "\n",
    "Flexible: Flask is designed to be highly modular and flexible, which means that you can easily add or remove components\n",
    "as needed. This allows you to create custom web applications tailored to your specific needs.\n",
    "\n",
    "Easy-to-use: Flask is very easy to learn and use, which makes it ideal for beginners. The framework has\n",
    "a simple syntax, and the documentation is extensive and easy to understand.\"\"\")"
   ]
  },
  {
   "cell_type": "code",
   "execution_count": 2,
   "id": "f718d110-e6dd-4569-9b95-ac97222cbf42",
   "metadata": {},
   "outputs": [
    {
     "name": "stdout",
     "output_type": "stream",
     "text": [
      "from flask import Flask\n",
      "app=Flask(__name__)\n",
      "@app.route(\"/hello\")\n",
      "def somu():\n",
      "    return \"Hello World!!\"\n",
      "if __name__==\"__main__\":\n",
      "    app.run(host=\"0.0.0.0\")\n"
     ]
    }
   ],
   "source": [
    "#Create a simple Flask application to display ‘Hello World!!’. Attach the screenshot of the output in\n",
    "#Jupyter Notebook.\n",
    "print(\"\"\"from flask import Flask\n",
    "app=Flask(__name__)\n",
    "@app.route(\"/hello\")\n",
    "def somu():\n",
    "    return \"Hello World!!\"\n",
    "if __name__==\"__main__\":\n",
    "    app.run(host=\"0.0.0.0\")\"\"\")"
   ]
  },
  {
   "cell_type": "code",
   "execution_count": null,
   "id": "e96f5ab1-2353-4b52-943e-d80e5185a98b",
   "metadata": {},
   "outputs": [],
   "source": [
    "#Q3. What is App routing in Flask? Why do we use app routes?\n",
    "print(\"\"\"app routing refers to the process of mapping URLs to functions\n",
    "or methods that will handle the request and return a response\"\"\")\n"
   ]
  },
  {
   "cell_type": "code",
   "execution_count": null,
   "id": "14c3984f-61cf-4bf7-9d87-72daf6b465fe",
   "metadata": {},
   "outputs": [],
   "source": [
    "print(\"app routes provide a clean and organized way to structure our web application\")"
   ]
  },
  {
   "cell_type": "code",
   "execution_count": null,
   "id": "90219188-fd24-4cdf-a037-e27bb452edf7",
   "metadata": {},
   "outputs": [],
   "source": [
    "#Q4. Create a “/welcome” route to display the welcome message “Welcome to ABC Corporation” and a “/”\n",
    "#route to show the following details:\n",
    "#Company Name: ABC Corporation\n",
    "#Location: India\n",
    "#Contact Detail: 999-999-9999'''"
   ]
  },
  {
   "cell_type": "code",
   "execution_count": null,
   "id": "27a88f57-52d8-41f9-aac2-fd53a5923e48",
   "metadata": {},
   "outputs": [],
   "source": [
    "print(\"\"\"from flask import Flask\n",
    "app=Flask(__name__)\n",
    "@app.route(\"/\")\n",
    "def details():\n",
    "    return \"\"\"Company Name: ABC Corporation\n",
    "Location: India\n",
    "Contact Detail: 999-999-9999\"\"\"\n",
    "@app.route(\"/welcome\")\n",
    "def wel_ABC_corpo():\n",
    "    return \"welcome to ABC corporation \"\n",
    "\n",
    "if __name__==\"__main__\":\n",
    "    app.run(host=\"0.0.0.0\")\"\"\")"
   ]
  },
  {
   "cell_type": "code",
   "execution_count": null,
   "id": "430088bd-c65b-4d17-8940-830fbf67403b",
   "metadata": {},
   "outputs": [],
   "source": [
    "#What function is used in Flask for URL Building? Write a Python code to demonstrate the working of the\n",
    "#url_for() function."
   ]
  },
  {
   "cell_type": "code",
   "execution_count": 2,
   "id": "bcd808d4-e223-481d-bdcb-b80dbc682517",
   "metadata": {},
   "outputs": [
    {
     "name": "stdout",
     "output_type": "stream",
     "text": [
      "The url_for() function is used in Flask to build URLs for routes defined in the application.\n"
     ]
    }
   ],
   "source": [
    "print(\"The url_for() function is used in Flask to build URLs for routes defined in the application.\")"
   ]
  },
  {
   "cell_type": "code",
   "execution_count": null,
   "id": "776276a8-e0cb-4379-93d6-6db45cc454dd",
   "metadata": {},
   "outputs": [],
   "source": []
  }
 ],
 "metadata": {
  "kernelspec": {
   "display_name": "Python 3 (ipykernel)",
   "language": "python",
   "name": "python3"
  },
  "language_info": {
   "codemirror_mode": {
    "name": "ipython",
    "version": 3
   },
   "file_extension": ".py",
   "mimetype": "text/x-python",
   "name": "python",
   "nbconvert_exporter": "python",
   "pygments_lexer": "ipython3",
   "version": "3.10.8"
  }
 },
 "nbformat": 4,
 "nbformat_minor": 5
}
