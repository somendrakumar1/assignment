{
 "cells": [
  {
   "cell_type": "code",
   "execution_count": null,
   "id": "25aee47c-e702-4bd9-bd74-a6998e0b3c03",
   "metadata": {},
   "outputs": [],
   "source": [
    "#whrite a program to accept percentage from \n",
    "#from the  userand display the garde according to the following \n",
    "#criteria\n",
    "n=int(input(\"enter the percentage\"))\n",
    "if n>90:\n",
    "    print(\"grade A\")\n",
    "elif 80<n<=90:\n",
    "    print(\"grade B\")\n",
    "elif 60<=n<=80:\n",
    "    print(\"grade C\")\n",
    "else:\n",
    "    print(\"grade D\")"
   ]
  },
  {
   "cell_type": "code",
   "execution_count": null,
   "id": "4a505f60-c6e1-4e4e-b6ff-0fb65003ce12",
   "metadata": {},
   "outputs": [],
   "source": [
    "#Q=2\n",
    "p=int(input(\"enter the price of bike\"))\n",
    "if p>100000:\n",
    "      print((p*15)/100)\n",
    "elif 50000<p>=100000:\n",
    "      print((p*10)/100)\n",
    "else:\n",
    "      print((p*5)/100)"
   ]
  },
  {
   "cell_type": "code",
   "execution_count": 3,
   "id": "a902cb83-48ab-4bf0-9621-03af57950c9d",
   "metadata": {},
   "outputs": [
    {
     "name": "stdin",
     "output_type": "stream",
     "text": [
      "enter the name of city jaipur\n"
     ]
    },
    {
     "name": "stdout",
     "output_type": "stream",
     "text": [
      "jal mahal\n"
     ]
    }
   ],
   "source": [
    "#accept any city from the user and display monuments\n",
    "c=str(input(\"enter the name of city\"))\n",
    "if c==\"Delhi\":\n",
    "    print(\"Red fort\")\n",
    "elif c==\"Agra\":\n",
    "    print(\"taj mahal\")\n",
    "else:\n",
    "    print(\"jal mahal\")\n",
    "    "
   ]
  },
  {
   "cell_type": "code",
   "execution_count": null,
   "id": "f222c50b-fc41-415c-8410-dcd3f8c7ae18",
   "metadata": {},
   "outputs": [],
   "source": [
    "#chek  the given number \n",
    "#can be divided by 3 before\n",
    "#it is less than or equal\n",
    "# to 10\n",
    "n=i/3\n",
    "i=9\n",
    "while i<=0:\n",
    "    print(n)\n",
    "    i=i-n\n",
    "\n",
    "    "
   ]
  },
  {
   "cell_type": "code",
   "execution_count": null,
   "id": "821f6a02-573e-4f76-ba55-1c62fbe5506e",
   "metadata": {},
   "outputs": [],
   "source": [
    "#why and when to use while loop give a detailed \n",
    "#desciption with exam"
   ]
  },
  {
   "cell_type": "code",
   "execution_count": null,
   "id": "08b27fb4-4fe4-4e47-b093-464b7e7b0e87",
   "metadata": {},
   "outputs": [],
   "source": [
    "print(\"while loop is use to repetative code under the condition \")\n",
    "n=1\n",
    "while n<10:\n",
    "    print(\"somu\")\n",
    "    n=n+1\n",
    "\n",
    "    "
   ]
  },
  {
   "cell_type": "code",
   "execution_count": null,
   "id": "8837c51e-9e07-4d18-9dbc-6aa75fc92303",
   "metadata": {},
   "outputs": [],
   "source": [
    "#use nested  while loop print\n",
    "#3 diifrent pattern\n",
    "n=1\n",
    "i=1\n",
    "while i<=n:\n",
    "    print('''\n",
    "             *\n",
    "            ***\n",
    "           *****''')\n",
    "    i=i+1\n",
    "j=1\n",
    "while j<=n:\n",
    "    print('''\n",
    "           * * * *\n",
    "           * * * * \n",
    "           * * * *\n",
    "           * * * *''')\n",
    "    j=j+1\n",
    "k=1\n",
    "while k<=n:\n",
    "    print('''\n",
    "           * * *\n",
    "           *   *\n",
    "           * * *''')\n",
    "    k=k+1"
   ]
  },
  {
   "cell_type": "code",
   "execution_count": null,
   "id": "caba15ed-37a2-4893-9cd1-57021adb87ea",
   "metadata": {},
   "outputs": [],
   "source": [
    "#reverse a while loop to display\n",
    "#number from 10 to1\n",
    "i=10\n",
    "result=0\n",
    "while i>0:\n",
    "    result=print(i)\n",
    "    i-=1\n",
    "print(result)\n",
    "\n"
   ]
  },
  {
   "cell_type": "code",
   "execution_count": null,
   "id": "3b109984-5f32-41d7-a50c-4b8d28442011",
   "metadata": {},
   "outputs": [],
   "source": []
  },
  {
   "cell_type": "code",
   "execution_count": null,
   "id": "3298ef88-0600-413b-ae85-ec7af74cadda",
   "metadata": {},
   "outputs": [],
   "source": []
  }
 ],
 "metadata": {
  "kernelspec": {
   "display_name": "Python 3 (ipykernel)",
   "language": "python",
   "name": "python3"
  },
  "language_info": {
   "codemirror_mode": {
    "name": "ipython",
    "version": 3
   },
   "file_extension": ".py",
   "mimetype": "text/x-python",
   "name": "python",
   "nbconvert_exporter": "python",
   "pygments_lexer": "ipython3",
   "version": "3.10.8"
  }
 },
 "nbformat": 4,
 "nbformat_minor": 5
}
