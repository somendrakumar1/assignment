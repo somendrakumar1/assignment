{
 "cells": [
  {
   "cell_type": "markdown",
   "id": "cc2b14a2-e281-4821-a8aa-de92f1dd4912",
   "metadata": {},
   "source": [
    "Q1. You are writing code for a company. The requirement of the company is that you create a python\n",
    "function that will check whether the password entered by the user is correct or not. The function should\n",
    "take the password as input and return the string “Valid Password” if the entered password follows the\n",
    "below-given password guidelines else it should return “Invalid Password”.\n",
    "Note: 1. The Password should contain at least two uppercase letters and at least two lowercase letters.\n",
    "2. The Password should contain at least a number and three special characters.\n",
    "3. The length of the password should be 10 characters long."
   ]
  },
  {
   "cell_type": "code",
   "execution_count": null,
   "id": "176efda5-f171-4f00-85bc-4d4001f42876",
   "metadata": {},
   "outputs": [],
   "source": [
    "import re\n",
    "def chek_password(password):\n",
    "    if len(password)!=10:\n",
    "        return \"invalid password\"\n",
    "    elif len(re.findall(r'[A-Z]',password))<2:\n",
    "        return  \"invalid password\"\n",
    "    elif len(re.findall(r'[a-z]',password))<2:\n",
    "        return  \"invalid password\"\n",
    "    elif len(re.findall(r'[0-9]',password))<1:\n",
    "        return  \"invalid password\"\n",
    "    elif len(re.findall(r'[!,@,#,$,%,^,&,*,-,+]'))<3:\n",
    "        return  \"invalid password\"\n",
    "    else:\n",
    "        return  \"valid password\"\n",
    "password=str(input(\"enter the password\"))\n",
    "result=chek_password(password)\n",
    "print(result)"
   ]
  },
  {
   "cell_type": "markdown",
   "id": "09ddc108-9943-44c5-8b28-82c1d9f7285a",
   "metadata": {},
   "source": [
    "Q2. Solve the below-given questions using at least one of the following:\n",
    "1. Lambda functioJ\n",
    "2. Filter functioJ\n",
    "3. Zap functioJ\n",
    "4. List ComprehensioI\n",
    "B Check if the string starts with a particular letterY\n",
    "B Check if the string is numericY\n",
    "B Sort a list of tuples having fruit names and their quantity. [(\"mango\",99),(\"orange\",80), (\"grapes\", 1000)-\n",
    "B Find the squares of numbers from 1 to 10Y\n",
    "B Find the cube root of numbers from 1 to 10Y\n",
    "B Check if a given number is evenY\n",
    "B Filter odd numbers from the given list.\n",
    "[1,2,3,4,5,6,7,8,9,10-\n",
    "B Sort a list of integers into positive and negative integers lists.\n",
    "[1,2,3,4,5,6,-1,-2,-3,-4,-5,0]"
   ]
  },
  {
   "cell_type": "code",
   "execution_count": 4,
   "id": "d9879ecc-b0e0-465a-837e-a4885d4d64a3",
   "metadata": {},
   "outputs": [
    {
     "name": "stdout",
     "output_type": "stream",
     "text": [
      "True\n"
     ]
    }
   ],
   "source": [
    "str=\"Somu\"\n",
    "starts_with=lambda x:x.startswith(\"S\")\n",
    "print(starts_with(str))"
   ]
  },
  {
   "cell_type": "code",
   "execution_count": 5,
   "id": "27246de7-abd5-4481-8c89-f4d5bc7e6fee",
   "metadata": {},
   "outputs": [
    {
     "name": "stdout",
     "output_type": "stream",
     "text": [
      "True\n"
     ]
    }
   ],
   "source": [
    "str=\"1234\"\n",
    "is_numeric=lambda str:str.isnumeric()\n",
    "print(is_numeric(str))"
   ]
  },
  {
   "cell_type": "code",
   "execution_count": 7,
   "id": "558aee33-c8e3-4dc5-bf6a-f0b8a3465fb0",
   "metadata": {},
   "outputs": [
    {
     "name": "stdout",
     "output_type": "stream",
     "text": [
      "[('orange', 80), ('mango', 99), ('grapes', 1000)]\n"
     ]
    }
   ],
   "source": [
    "fruits = [(\"mango\", 99), (\"orange\", 80), (\"grapes\", 1000)]\n",
    "sorted_fruits = sorted(fruits, key=lambda fruit: fruit[1])\n",
    "print(sorted_fruits)\n"
   ]
  },
  {
   "cell_type": "code",
   "execution_count": 18,
   "id": "6c456498-fe23-4bf5-acc3-f5c25b6d489a",
   "metadata": {},
   "outputs": [
    {
     "name": "stdout",
     "output_type": "stream",
     "text": [
      "[1, 4, 9, 16, 25, 36, 49, 64, 81, 100]\n"
     ]
    }
   ],
   "source": [
    "squre=list(map(lambda x:x**2,range(1,11)))\n",
    "print(squre)"
   ]
  },
  {
   "cell_type": "code",
   "execution_count": 19,
   "id": "11df538a-a759-451c-9524-7ac74b54bf53",
   "metadata": {},
   "outputs": [
    {
     "name": "stdout",
     "output_type": "stream",
     "text": [
      "[1.0, 1.2599210498948732, 1.4422495703074083, 1.5874010519681994, 1.7099759466766968, 1.8171205928321397, 1.912931182772389, 2.0, 2.080083823051904, 2.154434690031884]\n"
     ]
    }
   ],
   "source": [
    "cube_root=list(map(lambda x:x**(1/3),range(1,11)))\n",
    "print(cube_root)"
   ]
  },
  {
   "cell_type": "code",
   "execution_count": 23,
   "id": "dbce5f1c-9525-4d76-b5cc-b10a4726a7bc",
   "metadata": {},
   "outputs": [
    {
     "name": "stdout",
     "output_type": "stream",
     "text": [
      "[1, 3, 5, 7, 9]\n"
     ]
    }
   ],
   "source": [
    "numbers = [1, 2, 3, 4, 5, 6, 7, 8, 9, 10]\n",
    "odd_numbers=list(filter(lambda x:x % 2 !=0,numbers))\n",
    "print(odd_numbers)"
   ]
  },
  {
   "cell_type": "code",
   "execution_count": 24,
   "id": "7b12865b-a5b6-4957-8861-0463f3c3054e",
   "metadata": {},
   "outputs": [
    {
     "name": "stdout",
     "output_type": "stream",
     "text": [
      "True\n",
      "False\n"
     ]
    }
   ],
   "source": [
    "is_even = lambda x: x % 2 == 0\n",
    "print(is_even(4))\n",
    "print(is_even(5))\n"
   ]
  },
  {
   "cell_type": "code",
   "execution_count": 25,
   "id": "9e23993b-094f-4dff-8b7c-39c05ce85bf5",
   "metadata": {},
   "outputs": [
    {
     "name": "stdout",
     "output_type": "stream",
     "text": [
      "[1, 2, 3, 4, 5, 6]\n",
      "[-1, -2, -3, -4, -5]\n"
     ]
    }
   ],
   "source": [
    "numbers = [1, 2, 3, 4, 5, 6, -1, -2, -3, -4, -5, 0]\n",
    "possitive_numbers=list(filter(lambda x:x>0,numbers))\n",
    "negative_numbers=list(filter(lambda x:x<0,numbers))\n",
    "print(possitive_numbers)\n",
    "print(negative_numbers)"
   ]
  },
  {
   "cell_type": "code",
   "execution_count": null,
   "id": "050c5875-e10c-4567-b0ac-76997db6e033",
   "metadata": {},
   "outputs": [],
   "source": []
  }
 ],
 "metadata": {
  "kernelspec": {
   "display_name": "Python 3 (ipykernel)",
   "language": "python",
   "name": "python3"
  },
  "language_info": {
   "codemirror_mode": {
    "name": "ipython",
    "version": 3
   },
   "file_extension": ".py",
   "mimetype": "text/x-python",
   "name": "python",
   "nbconvert_exporter": "python",
   "pygments_lexer": "ipython3",
   "version": "3.10.8"
  }
 },
 "nbformat": 4,
 "nbformat_minor": 5
}
