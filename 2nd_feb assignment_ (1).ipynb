{
 "cells": [
  {
   "cell_type": "code",
   "execution_count": null,
   "id": "69937d80-597a-4d69-bda5-d2e0c9e77256",
   "metadata": {},
   "outputs": [],
   "source": [
    "#explain with an example each when to use\n",
    "#for loop and a while loop"
   ]
  },
  {
   "cell_type": "code",
   "execution_count": 1,
   "id": "f7c0a3b1-f286-476d-9e3e-f13d98c0baa3",
   "metadata": {},
   "outputs": [
    {
     "name": "stdout",
     "output_type": "stream",
     "text": [
      "for loop is use to iterate over the list,tuple or array \n",
      "1\n",
      "2\n",
      "3\n",
      "4\n",
      "5\n",
      "6\n",
      "7\n",
      "8\n",
      "9\n"
     ]
    }
   ],
   "source": [
    "print(\"for loop is use to iterate over the list,tuple or array \")\n",
    "l=[1,2,3,4,5,6,7,8,9,]\n",
    "for i in l:\n",
    "    print(i)"
   ]
  },
  {
   "cell_type": "code",
   "execution_count": 2,
   "id": "bda32789-c311-4463-8f7e-96a6fe3f80a6",
   "metadata": {},
   "outputs": [
    {
     "name": "stdout",
     "output_type": "stream",
     "text": [
      "while loop perform under the cundition\n",
      "0\n",
      "1\n",
      "2\n",
      "3\n",
      "4\n",
      "5\n"
     ]
    }
   ],
   "source": [
    "print(\"while loop perform under the cundition\")\n",
    "n=0\n",
    "while n<=5:\n",
    "    print(n)\n",
    "    n=n+1"
   ]
  },
  {
   "cell_type": "code",
   "execution_count": null,
   "id": "d8f226d8-3620-4ec3-a19c-844dafac5eee",
   "metadata": {},
   "outputs": [],
   "source": [
    "#whrite a python programto print sum and product\n",
    "#of the first 10 natural number using for \n",
    "#and while loop"
   ]
  },
  {
   "cell_type": "code",
   "execution_count": 3,
   "id": "edb6bd50-de6c-4cb3-8313-323441d4a068",
   "metadata": {},
   "outputs": [
    {
     "name": "stdout",
     "output_type": "stream",
     "text": [
      "1\n",
      "3\n",
      "6\n",
      "10\n",
      "15\n",
      "21\n",
      "28\n",
      "36\n",
      "45\n",
      "55\n"
     ]
    }
   ],
   "source": [
    "result=0\n",
    "for i in range(1,11):\n",
    "    result=result+i\n",
    "    print(result)"
   ]
  },
  {
   "cell_type": "code",
   "execution_count": 4,
   "id": "925a39f2-0d0f-4565-8da2-bb19cdbde4db",
   "metadata": {},
   "outputs": [
    {
     "name": "stdout",
     "output_type": "stream",
     "text": [
      "1\n",
      "2\n",
      "6\n",
      "24\n",
      "120\n",
      "720\n",
      "5040\n",
      "40320\n",
      "362880\n",
      "3628800\n"
     ]
    }
   ],
   "source": [
    "result=1\n",
    "for i in range(1,11):\n",
    "    result=result*i\n",
    "    print(result)"
   ]
  },
  {
   "cell_type": "code",
   "execution_count": 5,
   "id": "abd446f1-49a3-46a4-927a-2e595f729bbd",
   "metadata": {},
   "outputs": [
    {
     "name": "stdout",
     "output_type": "stream",
     "text": [
      "0\n",
      "1\n",
      "3\n",
      "6\n",
      "10\n",
      "15\n",
      "21\n",
      "28\n",
      "36\n",
      "45\n",
      "55\n"
     ]
    }
   ],
   "source": [
    "n=0\n",
    "result=0\n",
    "while n<11:\n",
    "    result=result+n\n",
    "    n+=1\n",
    "    print(result)"
   ]
  },
  {
   "cell_type": "code",
   "execution_count": 6,
   "id": "8282e027-650a-4f9d-9a29-5392772e2190",
   "metadata": {},
   "outputs": [
    {
     "name": "stdout",
     "output_type": "stream",
     "text": [
      "1\n",
      "2\n",
      "6\n",
      "24\n",
      "120\n",
      "720\n",
      "5040\n",
      "40320\n",
      "362880\n",
      "3628800\n"
     ]
    }
   ],
   "source": [
    "n=1\n",
    "result=1\n",
    "while n<11:\n",
    "    result=result*n\n",
    "    n+=1\n",
    "    print(result)"
   ]
  },
  {
   "cell_type": "code",
   "execution_count": null,
   "id": "d3ff8a47-ca3e-4590-893a-a87a5066d074",
   "metadata": {},
   "outputs": [],
   "source": [
    "#creat a list of numbers from 1 to 100 \n",
    "#using for and while loop find \n",
    "#cube \n",
    "#if cube is divisible by 4 or 5 then\n",
    "#append that number in list\n"
   ]
  },
  {
   "cell_type": "code",
   "execution_count": 7,
   "id": "73258d05-8427-4e77-997b-8f5195ce4330",
   "metadata": {},
   "outputs": [
    {
     "name": "stdout",
     "output_type": "stream",
     "text": [
      "[0, 2, 4, 5, 6, 8, 10, 12, 14, 15, 16, 18, 20, 22, 24, 25, 26, 28, 30, 32, 34, 35, 36, 38, 40, 42, 44, 45, 46, 48, 50, 52, 54, 55, 56, 58, 60, 62, 64, 65, 66, 68, 70, 72, 74, 75, 76, 78, 80, 82, 84, 85, 86, 88, 90, 92, 94, 95, 96, 98, 100]\n"
     ]
    }
   ],
   "source": [
    "# for loop\n",
    "#create a list of number from 1 to 100\n",
    "numders=list(range(101))\n",
    "cubes=[]\n",
    "for num in numders:\n",
    "    cube=num**3\n",
    "    if cube %4==0 or cube%5==0:\n",
    "        cubes.append(num)\n",
    "print(cubes)"
   ]
  },
  {
   "cell_type": "code",
   "execution_count": 8,
   "id": "b1c516f0-59f2-4d1f-a964-a148cfa7adb8",
   "metadata": {},
   "outputs": [
    {
     "name": "stdout",
     "output_type": "stream",
     "text": [
      "[0, 2, 4, 5, 6, 8, 10, 12, 14, 15, 16, 18, 20, 22, 24, 25, 26, 28, 30, 32, 34, 35, 36, 38, 40, 42, 44, 45, 46, 48, 50, 52, 54, 55, 56, 58, 60, 62, 64, 65, 66, 68, 70, 72, 74, 75, 76, 78, 80, 82, 84, 85, 86, 88, 90, 92, 94, 95, 96, 98, 100]\n"
     ]
    }
   ],
   "source": [
    "numbers=list(range(101))\n",
    "cubes=[]\n",
    "i=0\n",
    "while i<len(numbers):\n",
    "    num=numbers[i]\n",
    "    cube=num**3\n",
    "    if cube%4==0 or cube%5==0:\n",
    "        cubes.append(num)\n",
    "    i+=1\n",
    "print(cubes)"
   ]
  },
  {
   "cell_type": "code",
   "execution_count": null,
   "id": "f95a1155-a610-4509-9e94-a332a5104f4f",
   "metadata": {},
   "outputs": [],
   "source": [
    "#whrite a program to filter count vowels in the \n",
    "#belows-given string \n",
    "#string =\" i want to become a data scientist\"\n"
   ]
  },
  {
   "cell_type": "code",
   "execution_count": 9,
   "id": "c7ae266f-d08b-4f91-98dd-cb2b476f53b4",
   "metadata": {},
   "outputs": [
    {
     "name": "stdout",
     "output_type": "stream",
     "text": [
      "number of vowels 12\n"
     ]
    }
   ],
   "source": [
    "string=\"i want to become a data scientist\"\n",
    "vowels=['a','e','i','o','u']\n",
    "vowels_count=0\n",
    "for char in string:\n",
    "    char_lower=char.lower()\n",
    "\n",
    "    if char_lower in vowels:\n",
    "        vowels_count+=1\n",
    "print(\"number of vowels\",vowels_count)"
   ]
  },
  {
   "cell_type": "code",
   "execution_count": null,
   "id": "ec444335-9f00-4111-b8cd-81c130f0dd8d",
   "metadata": {},
   "outputs": [],
   "source": [
    "units=int(input(\"enter the number of units in a month\"))\n",
    "if units<=100:\n",
    "    print(units*4.5)\n",
    "elif 100<units<=200:\n",
    "    print((100*4.5)+(units-100)*6)\n",
    "elif 200<units<=300:\n",
    "    print((100*4.5)+(100*6)+(units-200)*10)\n",
    "else:\n",
    "    print((100*4.5)+(100*6)+(100*10)+(units-300)*20)"
   ]
  }
 ],
 "metadata": {
  "kernelspec": {
   "display_name": "Python 3 (ipykernel)",
   "language": "python",
   "name": "python3"
  },
  "language_info": {
   "codemirror_mode": {
    "name": "ipython",
    "version": 3
   },
   "file_extension": ".py",
   "mimetype": "text/x-python",
   "name": "python",
   "nbconvert_exporter": "python",
   "pygments_lexer": "ipython3",
   "version": "3.10.8"
  }
 },
 "nbformat": 4,
 "nbformat_minor": 5
}
