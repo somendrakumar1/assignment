{
 "cells": [
  {
   "cell_type": "code",
   "execution_count": null,
   "id": "133a505a-6413-432d-b5cd-5c27983e4e8a",
   "metadata": {},
   "outputs": [],
   "source": [
    "#what is database? differentiate sqland nosql databases\n"
   ]
  },
  {
   "cell_type": "code",
   "execution_count": 1,
   "id": "5035746e-1178-42c4-95be-74a55fd0e996",
   "metadata": {},
   "outputs": [
    {
     "name": "stdout",
     "output_type": "stream",
     "text": [
      "A database is an organized collection of \n",
      "data that \n",
      "can be easily accessed, managed, and updated\n",
      "the main difference between SQL and NoSQL databases lies in their data models \n",
      "and query languages. SQL databases use a structured, tabular format, and SQL language to\n",
      "query data, while NoSQL databases use a flexible, document-based or key-value approach,\n",
      "with a variety of query languages. The choice of database type depends on the specific\n",
      "requirements of the application, such as the nature of the data, the complexity of the\n",
      "queries, and the scalability needs.\n"
     ]
    }
   ],
   "source": [
    "print(\"\"\"A database is an organized collection of \n",
    "data that \n",
    "can be easily accessed, managed, and updated\"\"\")\n",
    "print(\"\"\"the main difference between SQL and NoSQL databases lies in their data models \n",
    "and query languages. SQL databases use a structured, tabular format, and SQL language to\n",
    "query data, while NoSQL databases use a flexible, document-based or key-value approach,\n",
    "with a variety of query languages. The choice of database type depends on the specific\n",
    "requirements of the application, such as the nature of the data, the complexity of the\n",
    "queries, and the scalability needs.\"\"\")"
   ]
  },
  {
   "cell_type": "code",
   "execution_count": null,
   "id": "6a2d704d-96a6-4e76-ac16-8f1068ea113e",
   "metadata": {},
   "outputs": [],
   "source": [
    "#what is DDL ? explain why create ,drop,alter and truncate are\n",
    "#used used with example\n"
   ]
  },
  {
   "cell_type": "code",
   "execution_count": 2,
   "id": "9cde56d4-c248-4030-a669-95d740ee0842",
   "metadata": {},
   "outputs": [
    {
     "name": "stdout",
     "output_type": "stream",
     "text": [
      "DDL stands for Data Definition Language, which is a subset of SQL used\n",
      "to define and manage database objects, such as tables, indexes, views, and constraints.\n",
      "The primary purpose of DDL statements is to create, \n",
      "modify, or delete the structure of the database and its objects.\n"
     ]
    }
   ],
   "source": [
    "print(\"\"\"DDL stands for Data Definition Language, which is a subset of SQL used\n",
    "to define and manage database objects, such as tables, indexes, views, and constraints.\n",
    "The primary purpose of DDL statements is to create, \n",
    "modify, or delete the structure of the database and its objects.\"\"\")"
   ]
  },
  {
   "cell_type": "code",
   "execution_count": 3,
   "id": "3c5f889c-59fd-4fd6-afe6-75ebe2b666af",
   "metadata": {},
   "outputs": [
    {
     "name": "stdout",
     "output_type": "stream",
     "text": [
      "modify, or delete the structure of\n",
      "the database and its objects.\n"
     ]
    }
   ],
   "source": [
    "print(\"\"\"modify, or delete the structure of\n",
    "the database and its objects.\"\"\")"
   ]
  },
  {
   "cell_type": "code",
   "execution_count": 4,
   "id": "c5f5c8dc-ec3c-4c31-af16-46ea44ded122",
   "metadata": {},
   "outputs": [
    {
     "name": "stdout",
     "output_type": "stream",
     "text": [
      "DROP: The DROP statement is used to remove an \n",
      "existing object from the database, such as a table, index, or view\n"
     ]
    }
   ],
   "source": [
    "print(\"\"\"DROP: The DROP statement is used to remove an \n",
    "existing object from the database, such as a table, index, or view\"\"\")"
   ]
  },
  {
   "cell_type": "code",
   "execution_count": 5,
   "id": "34c4cd98-424a-4a06-b3d1-d6ac82047ca4",
   "metadata": {},
   "outputs": [
    {
     "name": "stdout",
     "output_type": "stream",
     "text": [
      "ALTER: The ALTER statement is used to modify the structure of an existing object in the database, such as a table or view\n"
     ]
    }
   ],
   "source": [
    "print(\"ALTER: The ALTER statement is used to modify the structure of an existing object in the database, such as a table or view\")"
   ]
  },
  {
   "cell_type": "code",
   "execution_count": 6,
   "id": "04eacf37-dd88-4e15-995c-b6e7e5f25fc1",
   "metadata": {},
   "outputs": [
    {
     "name": "stdout",
     "output_type": "stream",
     "text": [
      "TRUNCATE: The TRUNCATE statement is used to delete all the data from an existing table while preserving the table structure\n"
     ]
    }
   ],
   "source": [
    "print(\"TRUNCATE: The TRUNCATE statement is used to delete all the data from an existing table while preserving the table structure\")"
   ]
  },
  {
   "cell_type": "code",
   "execution_count": 7,
   "id": "48166d01-3882-42ff-a819-ab6be9b9f33c",
   "metadata": {},
   "outputs": [
    {
     "name": "stdout",
     "output_type": "stream",
     "text": [
      "DML stands for Data Manipulation Language, which is a subset of SQL\n",
      "(Structured Query Language) used to manipulate the data stored in a relational database.\n"
     ]
    }
   ],
   "source": [
    "# What is DML? Explain INSERT, UPDATE, and DELETE with an example\n",
    "print(\"\"\"DML stands for Data Manipulation Language, which is a subset of SQL\n",
    "(Structured Query Language) used to manipulate the data stored in a relational database.\"\"\")"
   ]
  },
  {
   "cell_type": "code",
   "execution_count": 1,
   "id": "33f17363-fd81-4a92-a586-f9e33bf80ea3",
   "metadata": {},
   "outputs": [
    {
     "ename": "SyntaxError",
     "evalue": "invalid syntax (3302238933.py, line 3)",
     "output_type": "error",
     "traceback": [
      "\u001b[0;36m  Cell \u001b[0;32mIn[1], line 3\u001b[0;36m\u001b[0m\n\u001b[0;31m    INSERT INTO students (name, age)\u001b[0m\n\u001b[0m           ^\u001b[0m\n\u001b[0;31mSyntaxError\u001b[0m\u001b[0;31m:\u001b[0m invalid syntax\n"
     ]
    }
   ],
   "source": [
    "print(\"INSERT: The INSERT command is used to add new records to a database table.\")\n",
    "#example\n",
    "\n",
    "INSERT INTO students (name, age)\n",
    "VALUES ('John', 22);"
   ]
  },
  {
   "cell_type": "code",
   "execution_count": null,
   "id": "f070d9fd-0ad8-422a-9df1-55538c1da0a2",
   "metadata": {},
   "outputs": [],
   "source": [
    "print(\"UPDATE: The UPDATE command is used to modify existing records in a database table.\")\n",
    "UPDATE students\n",
    "SET age = 23\n",
    "WHERE id = 1;"
   ]
  },
  {
   "cell_type": "code",
   "execution_count": null,
   "id": "1cd27656-3e44-46c1-b6ad-3064be48969f",
   "metadata": {},
   "outputs": [],
   "source": [
    "print(\"DELETE: The DELETE command is used to remove records from a database table\")\n",
    "DELETE FROM students\n",
    "WHERE id = 2;"
   ]
  },
  {
   "cell_type": "code",
   "execution_count": 2,
   "id": "fa072e25-d34a-4ce2-b5d9-b7ab9d35810b",
   "metadata": {},
   "outputs": [
    {
     "name": "stdout",
     "output_type": "stream",
     "text": [
      "DQL stands for Data Query Language, which is another subset of SQL (Structured Query Language) used to retrieve data from a database\n"
     ]
    }
   ],
   "source": [
    "#What is DQL? Explain SELECT with an example\n",
    "print(\"DQL stands for Data Query Language, which is another subset of SQL (Structured Query Language) used to retrieve data from a database\")"
   ]
  },
  {
   "cell_type": "code",
   "execution_count": 1,
   "id": "05e3bf13-e1d6-448e-90eb-8008b5872005",
   "metadata": {},
   "outputs": [
    {
     "name": "stdout",
     "output_type": "stream",
     "text": [
      "Primary Key:\n",
      "A primary key is a column or set of columns \n",
      "in a database table that \n",
      "uniquely identifies each row in the table\n"
     ]
    }
   ],
   "source": [
    "#. Explain Primary Key and Foreign Key\n",
    "print(\"\"\"Primary Key:\n",
    "A primary key is a column or set of columns \n",
    "in a database table that \n",
    "uniquely identifies each row in the table\"\"\")"
   ]
  },
  {
   "cell_type": "code",
   "execution_count": 2,
   "id": "85c0964e-9064-4b70-972d-1eeded79db2e",
   "metadata": {},
   "outputs": [
    {
     "name": "stdout",
     "output_type": "stream",
     "text": [
      "Foreign Key:\n",
      "A foreign key is a column or set of columns in\n",
      "a database table that\n",
      "refers to the primary key of another table\n"
     ]
    }
   ],
   "source": [
    "print(\"\"\"Foreign Key:\n",
    "A foreign key is a column or set of columns in\n",
    "a database table that\n",
    "refers to the primary key of another table\"\"\")"
   ]
  },
  {
   "cell_type": "code",
   "execution_count": null,
   "id": "ca53cc75-64e1-439b-b652-7702f9795a3f",
   "metadata": {},
   "outputs": [],
   "source": [
    "print(\"\"\"import mysql.connector\n",
    "\n",
    "# Establishing the connection\n",
    "mydb = mysql.connector.connect(\n",
    "  host=\"localhost\",\n",
    "  user=\"abc\",\n",
    "  password=\"password\"\n",
    ");\n",
    "\n",
    "# Creating a cursor object\n",
    "mycursor = mydb.cursor()\n",
    "\n",
    "# Executing a query\n",
    "mycursor.execute(\"SELECT * FROM test_table\")\n",
    "\n",
    "# Fetching the results\n",
    "results = mycursor.fetchall()\n",
    "\n",
    "# Displaying the results\n",
    "for row in results:\n",
    "  print(row)\n",
    "\n",
    "\"\"\")\n",
    "print(\"\"\"The execute() method is used to execute a SQL query \n",
    "or a command. It takes a single parameter\n",
    "which is the SQL query or command to execute\"\"\")"
   ]
  },
  {
   "cell_type": "code",
   "execution_count": null,
   "id": "d86f4dae-c604-4b1a-b0e3-ddd5f57cc64e",
   "metadata": {},
   "outputs": [],
   "source": [
    "\"\"\"The execute() method is used to execute a SQL query \n",
    "or a command. It takes a single parameter\n",
    "which is the SQL query or command to execute\"\"\""
   ]
  },
  {
   "cell_type": "code",
   "execution_count": null,
   "id": "80b0ff09-cca2-467f-85c4-3634dfe15086",
   "metadata": {},
   "outputs": [],
   "source": [
    "'''The cursor() method returns a cursor object,\n",
    "which is used to execute SQL statements and fetch results'''"
   ]
  },
  {
   "cell_type": "code",
   "execution_count": null,
   "id": "46da2be6-63fa-414e-b77f-2431403e3160",
   "metadata": {},
   "outputs": [],
   "source": [
    "# Give the order of execution of SQL clauses in an SQL query\n"
   ]
  },
  {
   "cell_type": "code",
   "execution_count": null,
   "id": "aa4f08cd-2f75-476c-8578-2e28fde16247",
   "metadata": {},
   "outputs": [],
   "source": [
    "'''The order of execution of SQL clauses in an SQL query is as follows:\n",
    "\n",
    "FROM clause: This clause specifies the table or tables from which data is to be selected.\n",
    "\n",
    "JOIN clause: If the query involves joining multiple tables, this clause is used to specify the join conditions.\n",
    "\n",
    "WHERE clause: This clause is used to filter the rows returned by the query based on one or more conditions.\n",
    "\n",
    "GROUP BY clause: This clause is used to group the rows returned by the query based on one or more columns.\n",
    "\n",
    "HAVING clause: This clause is used to filter the groups returned by the query based on one or more conditions.\n",
    "\n",
    "SELECT clause: This clause is used to specify the columns to be included in the output of the query.\n",
    "\n",
    "DISTINCT clause: This clause is used to remove duplicates from the result set.\n",
    "\n",
    "ORDER BY clause: This clause is used to sort the result set based on one or more columns.\n",
    "\n",
    "LIMIT clause: This clause is used to limit the number of rows returned by the query.'''"
   ]
  }
 ],
 "metadata": {
  "kernelspec": {
   "display_name": "Python 3 (ipykernel)",
   "language": "python",
   "name": "python3"
  },
  "language_info": {
   "codemirror_mode": {
    "name": "ipython",
    "version": 3
   },
   "file_extension": ".py",
   "mimetype": "text/x-python",
   "name": "python",
   "nbconvert_exporter": "python",
   "pygments_lexer": "ipython3",
   "version": "3.10.8"
  }
 },
 "nbformat": 4,
 "nbformat_minor": 5
}
