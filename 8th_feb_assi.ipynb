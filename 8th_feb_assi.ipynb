{
 "cells": [
  {
   "cell_type": "markdown",
   "id": "6764a012-ce70-491b-9435-df28c6f3251e",
   "metadata": {},
   "source": [
    "What is Abstraction in OOps? Explain with an example."
   ]
  },
  {
   "cell_type": "code",
   "execution_count": 1,
   "id": "ddc01852-e367-4aad-9ab5-9db91738f83f",
   "metadata": {},
   "outputs": [
    {
     "name": "stdout",
     "output_type": "stream",
     "text": [
      " Abstraction is the process of hiding the complex details of\n",
      "an object and presenting only the essential features to the users.\n"
     ]
    }
   ],
   "source": [
    "print(\"\"\" Abstraction is the process of hiding the complex details of\n",
    "an object and presenting only the essential features to the users.\"\"\")"
   ]
  },
  {
   "cell_type": "code",
   "execution_count": 13,
   "id": "da374f7d-cedb-49a0-8a7a-ed2eddf04433",
   "metadata": {},
   "outputs": [
    {
     "name": "stdout",
     "output_type": "stream",
     "text": [
      "Withdrawal successful. Right now bank balance is 9000\n",
      "Deposit successful. Right now bank balance is 11000\n"
     ]
    }
   ],
   "source": [
    "class Bank:\n",
    "    def __init__(self, name, bank_balance):\n",
    "        self.name = name\n",
    "        self.bank_balance = bank_balance\n",
    "        \n",
    "    def withdraw(self, withdrawal_amount):\n",
    "        if withdrawal_amount <= self.bank_balance:\n",
    "            self.bank_balance -= withdrawal_amount\n",
    "            print(\"Withdrawal successful. Right now bank balance is {}\".format(self.bank_balance))\n",
    "        else:\n",
    "            print(\"Withdrawal failed. Not enough funds.\")\n",
    "            \n",
    "    def deposit(self, deposit_amount):\n",
    "        self.bank_balance += deposit_amount\n",
    "        print(\"Deposit successful. Right now bank balance is {}\".format(self.bank_balance))\n",
    "        \n",
    "my_bank = Bank(\"somu\", 10000)\n",
    "my_bank.withdraw(1000)\n",
    "my_bank.deposit(2000)\n"
   ]
  },
  {
   "cell_type": "markdown",
   "id": "2e9b19b6-9e99-4ab9-84eb-e28dc1ae5131",
   "metadata": {},
   "source": [
    "Q2. Differentiate between Abstraction and Encapsulation. Explain with an example."
   ]
  },
  {
   "cell_type": "code",
   "execution_count": 14,
   "id": "a431fc03-74cd-4bb8-957f-02e90aab5c5f",
   "metadata": {},
   "outputs": [
    {
     "name": "stdout",
     "output_type": "stream",
     "text": [
      "Abstraction:\n",
      "Abstraction is the process of hiding the implementation details of an object \n",
      "and exposing only the essential features or behavior to the user. \n",
      "Example:\n",
      "A common example of abstraction is a TV remote control. The remote control provides a simple \n",
      "interface with buttons to turn on/off the TV, change channels, adjust the volume, and so on\n",
      "Encapsulation:\n",
      "Encapsulation is the process of hiding the internal state or data of an\n",
      "object from the outside world, and providing a public interface for accessing and modifying that state. \n",
      "Example:\n",
      "A good example of encapsulation is a bank account.\n",
      "A bank account object might have private attributes like the account number, balance, and transaction history.\n"
     ]
    }
   ],
   "source": [
    "print(\"\"\"Abstraction:\n",
    "Abstraction is the process of hiding the implementation details of an object \n",
    "and exposing only the essential features or behavior to the user. \n",
    "Example:\n",
    "A common example of abstraction is a TV remote control. The remote control provides a simple \n",
    "interface with buttons to turn on/off the TV, change channels, adjust the volume, and so on\n",
    "Encapsulation:\n",
    "Encapsulation is the process of hiding the internal state or data of an\n",
    "object from the outside world, and providing a public interface for accessing and modifying that state. \n",
    "Example:\n",
    "A good example of encapsulation is a bank account.\n",
    "A bank account object might have private attributes like the account number, balance, and transaction history.\"\"\")\n"
   ]
  },
  {
   "cell_type": "markdown",
   "id": "948dcf2e-1389-41d9-8eba-96044f05789b",
   "metadata": {},
   "source": [
    "Q3. What is abc module in python? Why is it used?"
   ]
  },
  {
   "cell_type": "code",
   "execution_count": 15,
   "id": "fae7c5ce-5ec4-4692-917d-90ce8a35ac0c",
   "metadata": {},
   "outputs": [
    {
     "name": "stdout",
     "output_type": "stream",
     "text": [
      "The abc module in Python stands for \"Abstract Base Classes\". \n",
      "It provides the infrastructure for defining abstract base classes,\n"
     ]
    }
   ],
   "source": [
    "print(\"\"\"The abc module in Python stands for \"Abstract Base Classes\". \n",
    "It provides the infrastructure for defining abstract base classes,\"\"\")"
   ]
  },
  {
   "cell_type": "markdown",
   "id": "6199723a-9c16-486b-83d4-83523990376f",
   "metadata": {},
   "source": [
    "Q4. How can we achieve data abstraction?"
   ]
  },
  {
   "cell_type": "code",
   "execution_count": 16,
   "id": "fed20281-2d0e-42e3-ab45-d8dc1c9a0998",
   "metadata": {},
   "outputs": [
    {
     "name": "stdout",
     "output_type": "stream",
     "text": [
      "In Python, we can achieve data abstraction through the use of classes and objects.\n"
     ]
    }
   ],
   "source": [
    "print(\"In Python, we can achieve data abstraction through the use of classes and objects.\")"
   ]
  },
  {
   "cell_type": "markdown",
   "id": "9aed7fbd-9e42-4af6-bcb4-cc2d10eb1f1b",
   "metadata": {},
   "source": [
    "Q5. Can we create an instance of an abstract class? Explain your answer."
   ]
  },
  {
   "cell_type": "code",
   "execution_count": 17,
   "id": "1a73bd73-d5cb-45c1-8c36-ed5ec5eeb8c2",
   "metadata": {},
   "outputs": [
    {
     "name": "stdout",
     "output_type": "stream",
     "text": [
      "In Python, classes and objects are the main tools for achieving data abstraction above example\n"
     ]
    }
   ],
   "source": [
    "print(\"In Python, classes and objects are the main tools for achieving data abstraction above example\")"
   ]
  },
  {
   "cell_type": "code",
   "execution_count": null,
   "id": "226390a6-5068-41bf-9879-8ac6358571c1",
   "metadata": {},
   "outputs": [],
   "source": []
  }
 ],
 "metadata": {
  "kernelspec": {
   "display_name": "Python 3 (ipykernel)",
   "language": "python",
   "name": "python3"
  },
  "language_info": {
   "codemirror_mode": {
    "name": "ipython",
    "version": 3
   },
   "file_extension": ".py",
   "mimetype": "text/x-python",
   "name": "python",
   "nbconvert_exporter": "python",
   "pygments_lexer": "ipython3",
   "version": "3.10.8"
  }
 },
 "nbformat": 4,
 "nbformat_minor": 5
}
