{
 "cells": [
  {
   "cell_type": "code",
   "execution_count": 1,
   "id": "44c56ff0-f619-4401-83ec-30e806a32f54",
   "metadata": {},
   "outputs": [
    {
     "name": "stdout",
     "output_type": "stream",
     "text": [
      "GET:\n",
      "The GET method is used to retrieve information from the server\n",
      "it typically includes a URL 'Uniform Resource Locator'\n"
     ]
    }
   ],
   "source": [
    "#Explain GET and POST methods.\n",
    "print(\"\"\"GET:\n",
    "The GET method is used to retrieve information from the server\n",
    "it typically includes a URL 'Uniform Resource Locator'\"\"\")"
   ]
  },
  {
   "cell_type": "code",
   "execution_count": 2,
   "id": "dbd4f41f-08a2-495e-8d32-1d1948973b79",
   "metadata": {},
   "outputs": [
    {
     "name": "stdout",
     "output_type": "stream",
     "text": [
      "POST:\n",
      "The POST method is used to submit data to the server\n",
      "it includes a message body that contains the data being submitted\n"
     ]
    }
   ],
   "source": [
    "print(\"\"\"POST:\n",
    "The POST method is used to submit data to the server\n",
    "it includes a message body that contains the data being submitted\"\"\")\n"
   ]
  },
  {
   "cell_type": "code",
   "execution_count": 3,
   "id": "03f1d1cf-ac32-4865-9039-f773ee4ef188",
   "metadata": {},
   "outputs": [
    {
     "name": "stdout",
     "output_type": "stream",
     "text": [
      "In Flask, the request object\n",
      "is used to access data that\n",
      "was submitted as part of an HTTP request\n"
     ]
    }
   ],
   "source": [
    "#Q2. Why is request used in Flask?\n",
    "print(\"\"\"In Flask, the request object\n",
    "is used to access data that\n",
    "was submitted as part of an HTTP request\"\"\")"
   ]
  },
  {
   "cell_type": "code",
   "execution_count": 4,
   "id": "2a2cc0d0-42cb-436f-aea0-e3eecbcfe663",
   "metadata": {},
   "outputs": [
    {
     "name": "stdout",
     "output_type": "stream",
     "text": [
      "In Flask, the redirect() function\n",
      "is used to redirect the \n",
      "client's browser to a different URL. \n"
     ]
    }
   ],
   "source": [
    "#Q3. Why is redirect() used in Flask?\n",
    "print(\"\"\"In Flask, the redirect() function\n",
    "is used to redirect the \n",
    "client's browser to a different URL. \"\"\")"
   ]
  },
  {
   "cell_type": "code",
   "execution_count": 5,
   "id": "8c92f2a5-1fdb-4579-8db3-ca28154583ad",
   "metadata": {},
   "outputs": [
    {
     "name": "stdout",
     "output_type": "stream",
     "text": [
      "In Flask, templates are used to define\n",
      "the structure and layout of web pages\n"
     ]
    }
   ],
   "source": [
    "#What are templates in Flask?\n",
    "#Why is the render_template() function used?\n",
    "print(\"\"\"In Flask, templates are used to define\n",
    "the structure and layout of web pages\"\"\")"
   ]
  },
  {
   "cell_type": "code",
   "execution_count": 6,
   "id": "4f98d35c-9671-4445-9430-b7b4ee1618ff",
   "metadata": {},
   "outputs": [
    {
     "name": "stdout",
     "output_type": "stream",
     "text": [
      "To render a template in Flask, the \n",
      "render_template() function is used. This function \n",
      "takes the name of a template file and any additional data that should be\n",
      "passed to the template, \n"
     ]
    }
   ],
   "source": [
    "print(\"\"\"To render a template in Flask, the \n",
    "render_template() function is used. This function \n",
    "takes the name of a template file and any additional data that should be\n",
    "passed to the template, \"\"\")"
   ]
  },
  {
   "cell_type": "code",
   "execution_count": null,
   "id": "a6ed4d24-bd15-423a-8ca7-1802b4186de5",
   "metadata": {},
   "outputs": [],
   "source": [
    "#Q5. Create a simple API. Use Postman to test it. Attach the screenshot of the output in the Jupyter Notebook.\n",
    "print(\"\"\"def details():\n",
    "    return \"\"\"Company Name: ABC Corporation\n",
    "Location: India\n",
    "Contact Detail: 999-999-9999\"\"\"\n",
    "@app.route(\"/welcome\")\n",
    "def wel_ABC_corpo():\n",
    "    return \"welcome to ABC corporation \"\n",
    "\n",
    "if __name__==\"__main__\":\n",
    "    app.run(host=\"0.0.0.0\")\"\"\")"
   ]
  }
 ],
 "metadata": {
  "kernelspec": {
   "display_name": "Python 3 (ipykernel)",
   "language": "python",
   "name": "python3"
  },
  "language_info": {
   "codemirror_mode": {
    "name": "ipython",
    "version": 3
   },
   "file_extension": ".py",
   "mimetype": "text/x-python",
   "name": "python",
   "nbconvert_exporter": "python",
   "pygments_lexer": "ipython3",
   "version": "3.10.8"
  }
 },
 "nbformat": 4,
 "nbformat_minor": 5
}
