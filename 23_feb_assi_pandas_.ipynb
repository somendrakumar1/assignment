{
 "cells": [
  {
   "cell_type": "code",
   "execution_count": 11,
   "id": "9df2ba92-7f63-4f57-8394-04e34c81ddce",
   "metadata": {},
   "outputs": [
    {
     "name": "stdout",
     "output_type": "stream",
     "text": [
      "0     4\n",
      "1     8\n",
      "2    15\n",
      "3    16\n",
      "4    23\n",
      "5    42\n",
      "dtype: int64\n"
     ]
    }
   ],
   "source": [
    "#Create a Pandas Series that contains the following data: 4, 8, 15, 16, 23, and 42. Then, print the series\n",
    "#import pandas as pd\n",
    "import pandas as pd\n",
    "\n",
    "data = [4, 8, 15, 16, 23, 42]\n",
    "series = pd.Series(data)\n",
    "print(series)\n"
   ]
  },
  {
   "cell_type": "code",
   "execution_count": 15,
   "id": "0a201be7-06d3-49c3-b0d3-8d0755eb3fd1",
   "metadata": {},
   "outputs": [
    {
     "name": "stdout",
     "output_type": "stream",
     "text": [
      "0     1\n",
      "1     2\n",
      "2     3\n",
      "3     4\n",
      "4     5\n",
      "5     6\n",
      "6     7\n",
      "7     8\n",
      "8     9\n",
      "9    10\n",
      "dtype: int64\n"
     ]
    }
   ],
   "source": [
    "# Create a variable of list type containing 10 elements in it, and apply pandas.Series function on the \n",
    "#variable print it\n",
    "\n",
    "\n",
    "my_list = [1, 2, 3, 4, 5, 6, 7, 8, 9, 10]\n",
    "series = pd.Series(my_list)\n",
    "print(series)\n"
   ]
  },
  {
   "cell_type": "code",
   "execution_count": 17,
   "id": "fe209c62-2668-4a0f-8905-50953d6ec496",
   "metadata": {},
   "outputs": [
    {
     "name": "stdout",
     "output_type": "stream",
     "text": [
      "     name  age  gender\n",
      "0   alice   25  female\n",
      "1     bob   30    male\n",
      "2  claire   27  female\n"
     ]
    }
   ],
   "source": [
    "data={'name':['alice','bob','claire'],\n",
    "      'age':[25,30,27],\n",
    "      'gender':['female','male','female']\n",
    "     }\n",
    "df=pd.DataFrame(data)\n",
    "print(df)"
   ]
  },
  {
   "cell_type": "code",
   "execution_count": 18,
   "id": "70516732-b7e4-446a-b949-a6ee2f436314",
   "metadata": {},
   "outputs": [
    {
     "name": "stdout",
     "output_type": "stream",
     "text": [
      "A Series is a one-dimensional\n",
      "labeled array that can hold any data\n",
      "type such as integers, floats, strings, etc\n"
     ]
    }
   ],
   "source": [
    "#A Series is a one-dimensional labeled array that\n",
    "# can hold any data type such as integers\n",
    "#, floats, strings, etc\n",
    "print(\"\"\"A Series is a one-dimensional\n",
    "labeled array that can hold any data\n",
    "type such as integers, floats, strings, etc\"\"\")"
   ]
  },
  {
   "cell_type": "code",
   "execution_count": 19,
   "id": "00ce617b-7cf4-46e5-9a35-3df90dd823c0",
   "metadata": {},
   "outputs": [
    {
     "name": "stdout",
     "output_type": "stream",
     "text": [
      "A DataFrame is a\n",
      "two-dimensional labeled data structure \n",
      "that consists of rows and columns\n"
     ]
    }
   ],
   "source": [
    "print(\"\"\"A DataFrame is a\n",
    "two-dimensional labeled data structure \n",
    "that consists of rows and columns\"\"\")"
   ]
  },
  {
   "cell_type": "code",
   "execution_count": 22,
   "id": "f9704cd3-4471-45c8-9e50-0e1f959871a7",
   "metadata": {},
   "outputs": [
    {
     "name": "stdout",
     "output_type": "stream",
     "text": [
      "0     2\n",
      "1     4\n",
      "2     6\n",
      "3     8\n",
      "4    10\n",
      "5    12\n",
      "6    14\n",
      "7    16\n",
      "dtype: int64\n",
      "      mentor  age    fgame\n",
      "0   sudh sir   30   criket\n",
      "1  krish sir   32  footbal\n",
      "2    xyz sir   28     ludo\n"
     ]
    }
   ],
   "source": [
    "my_series=[2,4,6,8,10,12,14,16]\n",
    "dd=pd.Series(my_series)\n",
    "print(dd)\n",
    "my_frame={'mentor':['sudh sir','krish sir','xyz sir'],\n",
    "         'age':[30,32,28],\n",
    "         'fgame':['criket','footbal','ludo']}\n",
    "df=pd.DataFrame(my_frame)\n",
    "print(df)"
   ]
  },
  {
   "cell_type": "code",
   "execution_count": null,
   "id": "773960e2-4346-47d3-9452-e23e5917ee06",
   "metadata": {},
   "outputs": [],
   "source": [
    "#. What are some common functions you can\n",
    "# use to manipulate data in a Pandas DataFrame?\n",
    "#Can \n",
    "#you give an example of when you might use \n",
    "#one of these functions?\n",
    "print(\"\"\"head() and tail():\n",
    "These functions are used to view the first or last few rows of\n",
    "a DataFrame. For example:\"\"\")\n",
    "df=pd.read_csv(\"name\")\n",
    "df.head()\n",
    "df.tail()\n",
    "#info function is use to get infomation\n",
    "df.info()\n",
    "df.describe()\n"
   ]
  },
  {
   "cell_type": "code",
   "execution_count": 24,
   "id": "b9a4bdab-5ebb-42e4-bb5e-8c5eadc3416f",
   "metadata": {},
   "outputs": [
    {
     "name": "stdout",
     "output_type": "stream",
     "text": [
      "In pandas, Series and DataFrame are mutable in nature,\n"
     ]
    }
   ],
   "source": [
    "#Which of the following is mutable\n",
    "# in nature Series, DataFrame, Panel\n",
    "print(\"In pandas, Series and DataFrame are mutable in nature,\")"
   ]
  },
  {
   "cell_type": "code",
   "execution_count": 25,
   "id": "573478b2-8b03-4c2b-a0f0-f9cbfcc82a00",
   "metadata": {},
   "outputs": [
    {
     "data": {
      "text/html": [
       "<div>\n",
       "<style scoped>\n",
       "    .dataframe tbody tr th:only-of-type {\n",
       "        vertical-align: middle;\n",
       "    }\n",
       "\n",
       "    .dataframe tbody tr th {\n",
       "        vertical-align: top;\n",
       "    }\n",
       "\n",
       "    .dataframe thead th {\n",
       "        text-align: right;\n",
       "    }\n",
       "</style>\n",
       "<table border=\"1\" class=\"dataframe\">\n",
       "  <thead>\n",
       "    <tr style=\"text-align: right;\">\n",
       "      <th></th>\n",
       "      <th>name</th>\n",
       "      <th>best freind</th>\n",
       "      <th>age</th>\n",
       "    </tr>\n",
       "  </thead>\n",
       "  <tbody>\n",
       "    <tr>\n",
       "      <th>0</th>\n",
       "      <td>somu</td>\n",
       "      <td>naveen</td>\n",
       "      <td>20</td>\n",
       "    </tr>\n",
       "    <tr>\n",
       "      <th>1</th>\n",
       "      <td>milind</td>\n",
       "      <td>harsh</td>\n",
       "      <td>20</td>\n",
       "    </tr>\n",
       "    <tr>\n",
       "      <th>2</th>\n",
       "      <td>rohit</td>\n",
       "      <td>avinash</td>\n",
       "      <td>21</td>\n",
       "    </tr>\n",
       "  </tbody>\n",
       "</table>\n",
       "</div>"
      ],
      "text/plain": [
       "     name best freind  age\n",
       "0    somu      naveen   20\n",
       "1  milind       harsh   20\n",
       "2   rohit     avinash   21"
      ]
     },
     "execution_count": 25,
     "metadata": {},
     "output_type": "execute_result"
    }
   ],
   "source": [
    "#. Create a DataFrame using multiple Series. Explain with an example\n",
    "data={'name':pd.Series(['somu','milind','rohit']),\n",
    "     'best freind':pd.Series(['naveen','harsh','avinash']),\n",
    "     'age':pd.Series([20,20,21])}\n",
    "df=pd.DataFrame(data)\n",
    "df"
   ]
  },
  {
   "cell_type": "code",
   "execution_count": null,
   "id": "892de91d-3a6c-45a8-b4b1-638109cef4e7",
   "metadata": {},
   "outputs": [],
   "source": []
  }
 ],
 "metadata": {
  "kernelspec": {
   "display_name": "Python 3 (ipykernel)",
   "language": "python",
   "name": "python3"
  },
  "language_info": {
   "codemirror_mode": {
    "name": "ipython",
    "version": 3
   },
   "file_extension": ".py",
   "mimetype": "text/x-python",
   "name": "python",
   "nbconvert_exporter": "python",
   "pygments_lexer": "ipython3",
   "version": "3.10.8"
  }
 },
 "nbformat": 4,
 "nbformat_minor": 5
}
