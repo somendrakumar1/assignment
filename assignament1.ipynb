{
 "cells": [
  {
   "cell_type": "code",
   "execution_count": 1,
   "id": "ea37d0e9-45c1-4e5c-a78e-fca5edc6c54e",
   "metadata": {},
   "outputs": [
    {
     "name": "stdout",
     "output_type": "stream",
     "text": [
      "Guido van Rossum\n"
     ]
    }
   ],
   "source": [
    "# who devloped python programing language\n",
    "print(\"Guido van Rossum\")"
   ]
  },
  {
   "cell_type": "code",
   "execution_count": 4,
   "id": "1f556284-ed2f-48f3-981b-c54159562a03",
   "metadata": {},
   "outputs": [
    {
     "name": "stdout",
     "output_type": "stream",
     "text": [
      "Python is a multi-paradigm programming language.\n",
      " Object-oriented programming and \n",
      " structured programming are fully\n",
      "  supported, and many of their \n",
      "  features support functional programming and\n",
      "   aspect-oriented programming\n"
     ]
    }
   ],
   "source": [
    "#which type of programing  does python support\n",
    "a='''Python is a multi-paradigm programming language.\n",
    " Object-oriented programming and \n",
    " structured programming are fully\n",
    "  supported, and many of their \n",
    "  features support functional programming and\n",
    "   aspect-oriented programming'''\n",
    "print(a)"
   ]
  },
  {
   "cell_type": "code",
   "execution_count": 5,
   "id": "0c132df3-5d5b-4f27-a2bf-0cf50e1beb26",
   "metadata": {},
   "outputs": [
    {
     "name": "stdout",
     "output_type": "stream",
     "text": [
      "Yes, Python is a case-sensitive language\n"
     ]
    }
   ],
   "source": [
    "#is python case sensitive when dealing with identifier\n",
    "print(\"Yes, Python is a case-sensitive language\")"
   ]
  },
  {
   "cell_type": "code",
   "execution_count": 6,
   "id": "238e9ccd-38aa-4bd9-8aef-badf1782d326",
   "metadata": {},
   "outputs": [
    {
     "name": "stdout",
     "output_type": "stream",
     "text": [
      "The extensions for Python files are - . py, . pyi\n"
     ]
    }
   ],
   "source": [
    "#what is the correct extension of the python file\n",
    "print(\"The extensions for Python files are - . py, . pyi\")"
   ]
  },
  {
   "cell_type": "code",
   "execution_count": 7,
   "id": "9c578302-1a3a-42f4-af71-3e5cebb5dbf3",
   "metadata": {},
   "outputs": [
    {
     "name": "stdout",
     "output_type": "stream",
     "text": [
      "Python is an interpreted language\n"
     ]
    }
   ],
   "source": [
    "#is python code compiled or interpreted\n",
    "print(\"Python is an interpreted language\")"
   ]
  },
  {
   "cell_type": "code",
   "execution_count": 8,
   "id": "bda1dff7-9839-4b18-9372-f23ca5cb4c24",
   "metadata": {},
   "outputs": [
    {
     "name": "stdout",
     "output_type": "stream",
     "text": [
      "Python is an interpreted language\n"
     ]
    }
   ],
   "source": [
    "#is python code compiled or interpreted\n",
    "print(\"Python is an interpreted language\")"
   ]
  },
  {
   "cell_type": "code",
   "execution_count": 9,
   "id": "176599b4-4bcc-4512-b32f-1f70dc26684a",
   "metadata": {},
   "outputs": [
    {
     "name": "stdout",
     "output_type": "stream",
     "text": [
      "#\n"
     ]
    }
   ],
   "source": [
    "#state a charecter used to give single line comment in python\n",
    "print('#')"
   ]
  },
  {
   "cell_type": "code",
   "execution_count": 10,
   "id": "a88cea3d-fedd-49d3-97f9-a4dd28ed4473",
   "metadata": {},
   "outputs": [
    {
     "name": "stdout",
     "output_type": "stream",
     "text": [
      "type()\n"
     ]
    }
   ],
   "source": [
    "#mention function  which can help us to find the version of python\n",
    "#thatwe are currently working on \n",
    "print('type()')"
   ]
  },
  {
   "cell_type": "code",
   "execution_count": 1,
   "id": "c188faf9-62ac-410b-8071-e8db91386446",
   "metadata": {},
   "outputs": [
    {
     "name": "stdout",
     "output_type": "stream",
     "text": [
      "lambda\n"
     ]
    }
   ],
   "source": [
    "#python supports the creation of anonymous functions at runtime using a construct called\n",
    "print( \"lambda\")"
   ]
  },
  {
   "cell_type": "code",
   "execution_count": 2,
   "id": "2924f5cd-fd91-4079-b2fb-59865e3fc0e4",
   "metadata": {},
   "outputs": [
    {
     "name": "stdout",
     "output_type": "stream",
     "text": [
      "pip use to import module in python\n"
     ]
    }
   ],
   "source": [
    "#what does pip stand for python\n",
    "print(\"pip use to import module in python\")"
   ]
  },
  {
   "cell_type": "code",
   "execution_count": 3,
   "id": "fa4eb8f6-895e-4f36-bd77-5d9c101b4532",
   "metadata": {},
   "outputs": [
    {
     "name": "stdout",
     "output_type": "stream",
     "text": [
      "abs(),aiter(),all(),any(),anext()\n",
      "ascii(),bin(),bool(),breakpoint()\n"
     ]
    }
   ],
   "source": [
    "#mention a few built -in function in python\n",
    "print('''abs(),aiter(),all(),any(),anext()\n",
    "ascii(),bin(),bool(),breakpoint()''')"
   ]
  },
  {
   "cell_type": "code",
   "execution_count": 5,
   "id": "bcaffc96-fd03-4299-bc95-a87f3e1f05ab",
   "metadata": {},
   "outputs": [
    {
     "name": "stdout",
     "output_type": "stream",
     "text": [
      "79 characters in Python\n"
     ]
    }
   ],
   "source": [
    "#what is maximum possible length of an identifier\n",
    "print(\"79 characters in Python\")"
   ]
  },
  {
   "cell_type": "code",
   "execution_count": 7,
   "id": "197870f7-f60e-492e-923e-7dc2f179d964",
   "metadata": {},
   "outputs": [
    {
     "name": "stdout",
     "output_type": "stream",
     "text": [
      "Data science.\n",
      "Scientific and mathematical computing.\n",
      "Web development.\n",
      "Finance and trading.\n"
     ]
    }
   ],
   "source": [
    "#what is the benifits using python\n",
    "print(\"\"\"Data science.\n",
    "Scientific and mathematical computing.\n",
    "Web development.\n",
    "Finance and trading.\"\"\")"
   ]
  },
  {
   "cell_type": "code",
   "execution_count": 8,
   "id": "785b2a81-36f1-4585-99fd-368cd5f6f76d",
   "metadata": {},
   "outputs": [
    {
     "name": "stdout",
     "output_type": "stream",
     "text": [
      "Memory management in Python\n",
      "involves a private heap containing\n",
      "all Python objects and data structures.\n",
      "The management of this private heap is ensured internally by the Python memory manager.\n"
     ]
    }
   ],
   "source": [
    "#how memory is managed in python\n",
    "print(\"\"\"Memory management in Python\n",
    "involves a private heap containing\n",
    "all Python objects and data structures.\n",
    "The management of this private heap is ensured internally by the Python memory manager.\"\"\")"
   ]
  },
  {
   "cell_type": "code",
   "execution_count": 9,
   "id": "35405b4c-0d64-42f9-bdb9-4b2d70e7990a",
   "metadata": {},
   "outputs": [
    {
     "name": "stdout",
     "output_type": "stream",
     "text": [
      "the indentation in Python is very\n",
      "important. Python uses indentation\n",
      "to indicate a block of code.\n"
     ]
    }
   ],
   "source": [
    "#is indentation required in python\n",
    "print(\"\"\"the indentation in Python is very\n",
    "important. Python uses indentation\n",
    "to indicate a block of code.\"\"\")"
   ]
  },
  {
   "cell_type": "code",
   "execution_count": null,
   "id": "8b7fb196-dbab-4592-a8ea-0400cb28e68f",
   "metadata": {},
   "outputs": [],
   "source": []
  }
 ],
 "metadata": {
  "kernelspec": {
   "display_name": "Python 3 (ipykernel)",
   "language": "python",
   "name": "python3"
  },
  "language_info": {
   "codemirror_mode": {
    "name": "ipython",
    "version": 3
   },
   "file_extension": ".py",
   "mimetype": "text/x-python",
   "name": "python",
   "nbconvert_exporter": "python",
   "pygments_lexer": "ipython3",
   "version": "3.10.8"
  }
 },
 "nbformat": 4,
 "nbformat_minor": 5
}
