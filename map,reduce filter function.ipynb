{
 "cells": [
  {
   "cell_type": "code",
   "execution_count": 27,
   "id": "1410425c-5613-4a43-88a4-97fec033d568",
   "metadata": {},
   "outputs": [
    {
     "data": {
      "text/plain": [
       "(<function __main__.<lambda>(x)>,\n",
       " [('sachin tendulkar', 34357),\n",
       "  ('ricky ponting', 27483),\n",
       "  ('jack kallis', 25534),\n",
       "  ('virat kohli', 24936)])"
      ]
     },
     "execution_count": 27,
     "metadata": {},
     "output_type": "execute_result"
    }
   ],
   "source": [
    "#create a python program to sort the list of tuple based on integer value using a lambda function\n",
    "\n",
    "l=[('sachin tendulkar',34357),('ricky ponting',27483),('jack kallis',25534),('virat kohli',24936)]\n",
    "lambda x:x.sort(l),l\n"
   ]
  },
  {
   "cell_type": "code",
   "execution_count": 22,
   "id": "cc59e663-4ea2-4293-a0b9-ee59028aafd7",
   "metadata": {},
   "outputs": [
    {
     "data": {
      "text/plain": [
       "[1, 4, 9, 16, 25, 36, 49, 64, 81, 100]"
      ]
     },
     "execution_count": 22,
     "metadata": {},
     "output_type": "execute_result"
    }
   ],
   "source": [
    "#whrite a python program to find the squres of all the number in the given list of integer using \n",
    "#lamda and map functions\n",
    "l=[1,2,3,4,5,6,7,8,9,10]\n",
    "def sq(x):\n",
    "    return x**2\n",
    "list(map(sq,l))"
   ]
  },
  {
   "cell_type": "code",
   "execution_count": 11,
   "id": "c4ebb612-ace8-4478-89a3-b81c858ba4bb",
   "metadata": {},
   "outputs": [
    {
     "data": {
      "text/plain": [
       "(<function __main__.<lambda>(x)>, [1, 2, 3, 4, 5, 6, 7, 8, 9, 10])"
      ]
     },
     "execution_count": 11,
     "metadata": {},
     "output_type": "execute_result"
    }
   ],
   "source": [
    "l=[1,2,3,4,5,6,7,8,9,10]\n",
    "sr=lambda x:x**2,l\n",
    "sr"
   ]
  },
  {
   "cell_type": "code",
   "execution_count": 16,
   "id": "d81e7e58-1c2e-4fe4-9b89-3323230f2e92",
   "metadata": {},
   "outputs": [
    {
     "data": {
      "text/plain": [
       "('1', '2', '3', '4', '5', '6', '7', '8', '9', '10')"
      ]
     },
     "execution_count": 16,
     "metadata": {},
     "output_type": "execute_result"
    }
   ],
   "source": [
    "#whrite a program to vonver the given list of integer into tuple of string .use map and\n",
    "#lambda function\n",
    "l1=[1,2,3,4,5,6,7,8,9,10]\n",
    "tuple(map(lambda l1:str(l1),l1))"
   ]
  },
  {
   "cell_type": "code",
   "execution_count": 18,
   "id": "5a909c8b-7306-4110-a9f4-3fa84676f858",
   "metadata": {},
   "outputs": [
    {
     "data": {
      "text/plain": [
       "15511210043330985984000000"
      ]
     },
     "execution_count": 18,
     "metadata": {},
     "output_type": "execute_result"
    }
   ],
   "source": [
    "# whrite program using reduce function  to compute the product of a list containing numbers from 1 to25\n",
    "from functools import reduce\n",
    "l2=[1,2,3,4,5,6,7,8,9,10,11,12,13,14,15,16,17,18,19,20,21,22,23,24,25]\n",
    "reduce(lambda x,y:x*y,l2)"
   ]
  },
  {
   "cell_type": "code",
   "execution_count": 19,
   "id": "4f078321-343a-4209-875a-6b584574c768",
   "metadata": {},
   "outputs": [
    {
     "data": {
      "text/plain": [
       "[3, 9, 27]"
      ]
     },
     "execution_count": 19,
     "metadata": {},
     "output_type": "execute_result"
    }
   ],
   "source": [
    "#whrite a  python progarm to filter the numbers in a given list that are divisible by2 and 3\n",
    "#using the filter function\n",
    "l3=[2,3,6,9,27,60,90,120,55,46]\n",
    "list(filter(lambda x:x%2 and x%3 ==0,l3))"
   ]
  },
  {
   "cell_type": "code",
   "execution_count": 26,
   "id": "06f7b065-d64c-4d02-b0f2-f4b1ddcc9559",
   "metadata": {},
   "outputs": [
    {
     "data": {
      "text/plain": [
       "['python', 'php', 'aba', 'radar', 'level']"
      ]
     },
     "execution_count": 26,
     "metadata": {},
     "output_type": "execute_result"
    }
   ],
   "source": [
    "#whrite a program to find palindromes in the given list of string using lambda and filter function \n",
    "l4=['python','php','aba','radar','level']\n",
    "list(filter(lambda x:str(l4),l4))"
   ]
  },
  {
   "cell_type": "code",
   "execution_count": null,
   "id": "cce68222-7060-416e-83ba-e81b8af0bb85",
   "metadata": {},
   "outputs": [],
   "source": []
  },
  {
   "cell_type": "code",
   "execution_count": null,
   "id": "8a215d95-6a71-4972-a6e6-ef06e7aba7cc",
   "metadata": {},
   "outputs": [],
   "source": []
  }
 ],
 "metadata": {
  "kernelspec": {
   "display_name": "Python 3 (ipykernel)",
   "language": "python",
   "name": "python3"
  },
  "language_info": {
   "codemirror_mode": {
    "name": "ipython",
    "version": 3
   },
   "file_extension": ".py",
   "mimetype": "text/x-python",
   "name": "python",
   "nbconvert_exporter": "python",
   "pygments_lexer": "ipython3",
   "version": "3.10.8"
  }
 },
 "nbformat": 4,
 "nbformat_minor": 5
}
