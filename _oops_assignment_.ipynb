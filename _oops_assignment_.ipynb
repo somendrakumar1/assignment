{
 "cells": [
  {
   "cell_type": "code",
   "execution_count": 1,
   "id": "7cce2475-4800-4d7b-b53b-72870ca77e51",
   "metadata": {},
   "outputs": [
    {
     "name": "stdout",
     "output_type": "stream",
     "text": [
      "a class is collection of objects\n",
      "or you can say it is blue print of \n",
      "of objects\n",
      "           class Employee:\n",
      "            where Employee is a\n",
      "            class         \n"
     ]
    }
   ],
   "source": [
    "#explain class and objects with respect to\n",
    "# oops give suitable example\n",
    "print(\"\"\"a class is collection of objects\n",
    "or you can say it is blue print of \n",
    "of objects\n",
    "           class Employee:\n",
    "            where Employee is a\n",
    "            class         \"\"\")\n"
   ]
  },
  {
   "cell_type": "code",
   "execution_count": 2,
   "id": "78a72e33-79a8-4905-b203-7b137664182f",
   "metadata": {},
   "outputs": [
    {
     "name": "stdout",
     "output_type": "stream",
     "text": [
      "An Object is an instance of a Class\n"
     ]
    }
   ],
   "source": [
    "print(\"An Object is an instance of a Class\")"
   ]
  },
  {
   "cell_type": "code",
   "execution_count": null,
   "id": "b79ee6ae-24f9-4efd-bb02-baa9bdfa9deb",
   "metadata": {},
   "outputs": [],
   "source": [
    "#name  of four pillars of oops\n",
    "print(\" four pillars are Inheritance, Polymorphism, Encapsulation and Abstraction.\")"
   ]
  },
  {
   "cell_type": "code",
   "execution_count": 4,
   "id": "58c23edd-b994-4e3b-84cb-322e1aac23dc",
   "metadata": {},
   "outputs": [
    {
     "name": "stdout",
     "output_type": "stream",
     "text": [
      "The __init__ method only allows\n",
      "the class to\n",
      "initialize the object's attributes. It is only used within classes.\n",
      "        class Car:\n",
      "    def __init__(self, name):\n",
      "        self.name = name\n",
      "        print(\"I ran first\")\n",
      " \n",
      "    def product(self):\n",
      "        print(\"I ran second\")\n",
      "        return (\"somu \" + self.name)\n",
      " \n",
      " \n",
      "C = Car('Audi R8')\n",
      "print(C.product()) \n",
      "I ran first\n",
      "I ran second\n",
      "somendra kumar: Audi R8\n"
     ]
    }
   ],
   "source": [
    "#explan why the __init__() function is used\n",
    "print(\"\"\"The __init__ method only allows\n",
    "the class to\n",
    "initialize the object's attributes. It is only used within classes.\n",
    "        class Car:\n",
    "    def __init__(self, name):\n",
    "        self.name = name\n",
    "        print(\"I ran first\")\n",
    " \n",
    "    def product(self):\n",
    "        print(\"I ran second\")\n",
    "        return (\"somu \" + self.name)\n",
    " \n",
    " \n",
    "C = Car('Audi R8')\n",
    "print(C.product()) \"\"\")\n",
    "class Car:\n",
    "    def __init__(self, name):\n",
    "        self.name = name\n",
    "        print(\"I ran first\")\n",
    " \n",
    "    def product(self):\n",
    "        print(\"I ran second\")\n",
    "        return (\"somendra kumar: \" + self.name)\n",
    " \n",
    " \n",
    "C = Car('Audi R8')\n",
    "print(C.product())\n",
    "          "
   ]
  },
  {
   "cell_type": "code",
   "execution_count": null,
   "id": "284a300f-e721-4aec-9ec6-92dfd1f78c1e",
   "metadata": {},
   "outputs": [],
   "source": [
    "#why self is used in python\n",
    "print(\"using the “self” we can access the attributes and methods of the class in python\")\n"
   ]
  },
  {
   "cell_type": "code",
   "execution_count": null,
   "id": "f0d7bb25-16fa-40d1-9392-20fe6a9a1794",
   "metadata": {},
   "outputs": [],
   "source": [
    "#what is inheritance ?give example for\n",
    "#each type of inheritance\n",
    "print(\"Inheritance allows us to define a class that inherits all the methods and properties from another class\")\n",
    "print(\"\"\"single inheritance=\n",
    " it is takes method and porperties from\n",
    " parent class\"\"\")\n",
    "class Parent1:  \n",
    "    def func_1(self):  \n",
    "        print (\"This function is defined inside the parent class.\")  \n",
    "  \n",
    "# now, we will create the Derived class  \n",
    "class Child1(Parent1):  \n",
    "    def func_2(self):  \n",
    "        print (\"This function is defined inside the child class.\")  \n",
    "  \n",
    "# Driver's code  \n",
    "object = Child1()  \n",
    "object.func_1()  \n",
    "object.func_2()  \n",
    "\n"
   ]
  },
  {
   "cell_type": "code",
   "execution_count": 5,
   "id": "d2c72c41-e03e-4518-be3a-4ea4d25506a4",
   "metadata": {},
   "outputs": [
    {
     "name": "stdout",
     "output_type": "stream",
     "text": [
      "maltiple inheritance=\n",
      "having maltiple parent class\n",
      "Father name is : Rajesh\n",
      "Mother name is : Shreya\n"
     ]
    }
   ],
   "source": [
    "print(\"\"\"maltiple inheritance=\n",
    "having maltiple parent class\"\"\")\n",
    "# Here, we will create the Base class 1  \n",
    "class Mother1:  \n",
    "    mothername1 = \"\"  \n",
    "    def mother1(self):  \n",
    "        print(self.mothername1)  \n",
    "  \n",
    "# Here, we will create the Base class 2  \n",
    "class Father1:  \n",
    "    fathername1 = \"\"  \n",
    "    def father1(self):  \n",
    "        print(self.fathername1)  \n",
    "  \n",
    "# now, we will create the Derived class  \n",
    "class Son1(Mother1, Father1):  \n",
    "    def parents1(self):  \n",
    "        print (\"Father name is :\", self.fathername1)  \n",
    "        print (\"Mother name is :\", self.mothername1)  \n",
    "  \n",
    "# Driver's code  \n",
    "s1 = Son1()  \n",
    "s1.fathername1 = \"Rajesh\"  \n",
    "s1.mothername1 = \"Shreya\"  \n",
    "s1.parents1()  "
   ]
  },
  {
   "cell_type": "code",
   "execution_count": null,
   "id": "02f7f049-f859-4e83-9c1f-ad21086c98a6",
   "metadata": {},
   "outputs": [],
   "source": [
    "print(\"\"\" multilevel inheritance=\n",
    "having multi level inheritance\n",
    "1.base or parent class\n",
    "2.intermidiet class\n",
    "3.derivative class\"\"\")\n",
    "# Here, we will create the Base class   \n",
    "class Grandfather1:  \n",
    "  \n",
    "    def __init__(self, grandfathername1):  \n",
    "        self.grandfathername1 = grandfathername1  \n",
    "  \n",
    "# here, we will create the Intermediate class  \n",
    "class Father1(Grandfather1):  \n",
    "    def __init__(self, fathername1, grandfathername1):  \n",
    "        self.fathername1 = fathername1  \n",
    "  \n",
    "        # here, we will invoke the constructor of Grandfather class  \n",
    "        Grandfather1.__init__(self, grandfathername1)  \n",
    "  \n",
    "# here, we will create the Derived class  \n",
    "class Son1(Father1):  \n",
    "    def __init__(self,sonname1, fathername1, grandfathername1):  \n",
    "        self.sonname1 = sonname1  \n",
    "  \n",
    "        # here, we will invoke the constructor of Father class  \n",
    "        Father1.__init__(self, fathername1, grandfathername1)  \n",
    "  \n",
    "    def print_name(self):  \n",
    "        print('Grandfather name is :', self.grandfathername1)  \n",
    "        print(\"Father name is :\", self.fathername1)  \n",
    "        print(\"Son name is :\", self.sonname1)  \n",
    "  \n",
    "# Driver code  \n",
    "s1 = Son1('John', 'John Jr', 'John Jr Jr')  \n",
    "print (s1.grandfathername1)  \n",
    "s1.print_name()  "
   ]
  },
  {
   "cell_type": "code",
   "execution_count": null,
   "id": "aed28757-d689-4e02-8565-4d7e02fafdf0",
   "metadata": {},
   "outputs": [],
   "source": []
  }
 ],
 "metadata": {
  "kernelspec": {
   "display_name": "Python 3 (ipykernel)",
   "language": "python",
   "name": "python3"
  },
  "language_info": {
   "codemirror_mode": {
    "name": "ipython",
    "version": 3
   },
   "file_extension": ".py",
   "mimetype": "text/x-python",
   "name": "python",
   "nbconvert_exporter": "python",
   "pygments_lexer": "ipython3",
   "version": "3.10.8"
  }
 },
 "nbformat": 4,
 "nbformat_minor": 5
}
