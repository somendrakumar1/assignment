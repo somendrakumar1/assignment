{
 "cells": [
  {
   "cell_type": "markdown",
   "id": "66a05123-490e-45ff-b8c6-a57f8c0e4b5c",
   "metadata": {},
   "source": [
    " What is Statistics?"
   ]
  },
  {
   "cell_type": "code",
   "execution_count": 1,
   "id": "c5129976-15f8-4091-b9e4-3570ffe96b06",
   "metadata": {},
   "outputs": [
    {
     "name": "stdout",
     "output_type": "stream",
     "text": [
      "Statistics is a branch of\n",
      "mathematics that deals with the collection, analysis,\n",
      "interpretation, presentation, and organization of data.\n"
     ]
    }
   ],
   "source": [
    "print(\"\"\"Statistics is a branch of\n",
    "mathematics that deals with the collection, analysis,\n",
    "interpretation, presentation, and organization of data.\"\"\")"
   ]
  },
  {
   "cell_type": "markdown",
   "id": "c60e4288-ee14-48db-b4d4-462dfaa80814",
   "metadata": {},
   "source": [
    "Q2. Define the different types of statistics and give an example of when each type might be used."
   ]
  },
  {
   "cell_type": "code",
   "execution_count": 3,
   "id": "2b9ceeeb-555f-4f4a-a1ec-05e6477d6130",
   "metadata": {},
   "outputs": [
    {
     "name": "stdout",
     "output_type": "stream",
     "text": [
      " it is consist of organizing and summerizing data\n",
      " For example=\n",
      " the average age of a group of people \n"
     ]
    }
   ],
   "source": [
    "#Descriptive Statistics\n",
    "print(\"\"\" it is consist of organizing and summerizing data\n",
    " For example=\n",
    " the average age of a group of people \"\"\")\n"
   ]
  },
  {
   "cell_type": "code",
   "execution_count": 4,
   "id": "8b49bc45-9145-4ee9-9f89-2a5cede165f4",
   "metadata": {},
   "outputs": [
    {
     "name": "stdout",
     "output_type": "stream",
     "text": [
      "Inferential statistics are used to make inferences and predictions \n",
      "about a population based on a sample of data\n",
      "for example=\n",
      "trading based on data\n"
     ]
    }
   ],
   "source": [
    "#Inferential Statistics\n",
    "print(\"\"\"Inferential statistics are used to make inferences and predictions \n",
    "about a population based on a sample of data\n",
    "for example=\n",
    "trading based on data\"\"\")"
   ]
  },
  {
   "cell_type": "markdown",
   "id": "92f137b4-1f98-4c8e-9ed2-25cd8cf29d5b",
   "metadata": {},
   "source": [
    "Q3. What are the different types of data and how do they differ from each other? Provide an example of\n",
    "each type of data."
   ]
  },
  {
   "cell_type": "code",
   "execution_count": 5,
   "id": "b0f5bf34-8db8-4ed6-aa58-1c667028931b",
   "metadata": {},
   "outputs": [
    {
     "name": "stdout",
     "output_type": "stream",
     "text": [
      " in nominal scale data order or ranking are not measurable\n",
      "for example=\n",
      "students name in a group\n"
     ]
    }
   ],
   "source": [
    "# nominal scale data\n",
    "print(\"\"\" in nominal scale data order or ranking are not measurable\n",
    "for example=\n",
    "students name in a group\"\"\")\n"
   ]
  },
  {
   "cell_type": "code",
   "execution_count": 6,
   "id": "3fe23062-6901-4a91-952a-921fbbfd4ad9",
   "metadata": {},
   "outputs": [
    {
     "name": "stdout",
     "output_type": "stream",
     "text": [
      "In case ordinal scale data \n",
      "1.raking is important\n",
      "2.differance can not be measured \n",
      "for example=\n",
      "quality of product:\n",
      "                   1.best\n",
      "                   2.batter\n",
      "                   3.bad\n",
      "                \n"
     ]
    }
   ],
   "source": [
    "#ordinal scale data\n",
    "print(\"\"\"In case ordinal scale data \n",
    "1.raking is important\n",
    "2.differance can not be measured \n",
    "for example=\n",
    "quality of product:\n",
    "                   1.best\n",
    "                   2.batter\n",
    "                   3.bad\n",
    "                \"\"\")"
   ]
  },
  {
   "cell_type": "code",
   "execution_count": 1,
   "id": "c457667b-2705-472d-be92-6889a0edd943",
   "metadata": {},
   "outputs": [
    {
     "name": "stdout",
     "output_type": "stream",
     "text": [
      "In case of interval scale data\n",
      "            1.data will be ordered \n",
      "            2.differance can be measure \n",
      "            3.ratio can not be measure\n",
      "            4. No '0' starting point\n",
      "    for example=\n",
      "                temp diff \n"
     ]
    }
   ],
   "source": [
    "# interval sclale data\n",
    "print(\"\"\"In case of interval scale data\n",
    "            1.data will be ordered \n",
    "            2.differance can be measure \n",
    "            3.ratio can not be measure\n",
    "            4. No '0' starting point\n",
    "    for example=\n",
    "                temp diff \"\"\")"
   ]
  },
  {
   "cell_type": "code",
   "execution_count": 2,
   "id": "94b87e40-883f-416f-b9bf-dcf08b8f398a",
   "metadata": {},
   "outputs": [
    {
     "name": "stdout",
     "output_type": "stream",
     "text": [
      "In the ratio scale data \n",
      "             1. data will be ordered \n",
      "             2. ratio mesurable \n",
      "             3.0 starting point \n",
      "     example :\n",
      "              studenrts marks in a class \n"
     ]
    }
   ],
   "source": [
    "#ratio scale data\n",
    "print(\"\"\"In the ratio scale data \n",
    "             1. data will be ordered \n",
    "             2. ratio mesurable \n",
    "             3.0 starting point \n",
    "     example :\n",
    "              studenrts marks in a class \"\"\")"
   ]
  },
  {
   "cell_type": "markdown",
   "id": "7ae6446e-0394-49c4-9725-4c524089a191",
   "metadata": {},
   "source": [
    "Q4. Categorise the following datasets with respect to quantitative and qualitative data types:\n",
    "(i) Grading in exam: A+, A, B+, B, C+, C, D, E\n",
    "(ii) Colour of mangoes: yellow, green, orange, red\n",
    "(iii) Height data of a class: [178.9, 179, 179.5, 176, 177.2, 178.3, 175.8,...]\n",
    "(iv) Number of mangoes exported by a farm: [500, 600, 478, 672, ...]"
   ]
  },
  {
   "cell_type": "code",
   "execution_count": 3,
   "id": "8b741f1c-d188-4129-ab58-08559f081e85",
   "metadata": {},
   "outputs": [
    {
     "name": "stdout",
     "output_type": "stream",
     "text": [
      "(i) Grading in exam: A+, A, B+, B, C+, C, D, E - Qualitative data\n",
      "         (ii) Colour of mangoes: yellow, green, orange, red - Qualitative data\n",
      "         (iii) Height data of a class: [178.9, 179, 179.5, 176, 177.2, 178.3, 175.8,...] - Quantitative data\n",
      "         (iv) Number of mangoes exported by a farm: [500, 600, 478, 672, ...] - Quantitative data\n"
     ]
    }
   ],
   "source": [
    "print(\"\"\"(i) Grading in exam: A+, A, B+, B, C+, C, D, E - Qualitative data\n",
    "         (ii) Colour of mangoes: yellow, green, orange, red - Qualitative data\n",
    "         (iii) Height data of a class: [178.9, 179, 179.5, 176, 177.2, 178.3, 175.8,...] - Quantitative data\n",
    "         (iv) Number of mangoes exported by a farm: [500, 600, 478, 672, ...] - Quantitative data\"\"\")"
   ]
  },
  {
   "cell_type": "markdown",
   "id": "bc009972-323f-44fe-a1e5-4d00e75a0cb7",
   "metadata": {},
   "source": [
    "Q5. Explain the concept of levels of measurement and give an example of a variable for each level."
   ]
  },
  {
   "cell_type": "code",
   "execution_count": 1,
   "id": "7f7e9a50-14d6-4043-acba-227a85f9b0ba",
   "metadata": {},
   "outputs": [
    {
     "name": "stdout",
     "output_type": "stream",
     "text": [
      "Nominal level of measurement: This level of measurement involves the \n",
      "assignment of numbers to represent categories or labels.\n",
      "Nominal data cannot be ranked or ordered.\n",
      "An example of a nominal variable is gender, where the categories are male and female, \n",
      "\n"
     ]
    }
   ],
   "source": [
    "print(\"\"\"Nominal level of measurement: This level of measurement involves the \n",
    "assignment of numbers to represent categories or labels.\n",
    "Nominal data cannot be ranked or ordered.\n",
    "An example of a nominal variable is gender, where the categories are male and female, \n",
    "\"\"\")"
   ]
  },
  {
   "cell_type": "code",
   "execution_count": 2,
   "id": "311f894a-3af5-44d3-b83d-45bc00fac52c",
   "metadata": {},
   "outputs": [
    {
     "name": "stdout",
     "output_type": "stream",
     "text": [
      "Ordinal level of measurement: This level of measurement involves\n",
      "the assignment of numbers \n",
      "to represent ordered categories. Ordinal data can be ranked and ordered\n",
      "An example of an ordinal variable is level of education, where the categories are high school diploma, bachelor's degree\n",
      ", master's degree, and doctoral degree,\n",
      "and assigned the values 1, 2, 3, and 4 respectively.\n"
     ]
    }
   ],
   "source": [
    "print(\"\"\"Ordinal level of measurement: This level of measurement involves\n",
    "the assignment of numbers \n",
    "to represent ordered categories. Ordinal data can be ranked and ordered\n",
    "An example of an ordinal variable is level of education, where the categories are high school diploma, bachelor's degree\n",
    ", master's degree, and doctoral degree,\n",
    "and assigned the values 1, 2, 3, and 4 respectively.\"\"\")"
   ]
  },
  {
   "cell_type": "markdown",
   "id": "5761312d-7622-4026-80ce-c33612059f79",
   "metadata": {},
   "source": [
    "Q6. Why is it important to understand the level of measurement when analyzing data? Provide an\n",
    "example to illustrate your answer."
   ]
  },
  {
   "cell_type": "code",
   "execution_count": 4,
   "id": "fd135d60-6227-49f6-b872-401621f3637f",
   "metadata": {},
   "outputs": [
    {
     "name": "stdout",
     "output_type": "stream",
     "text": [
      "It is important to understand the level of measurement when \n",
      "analyzing data because it determines the type of statistical analysis that can \n",
      "be performed on the data. Different levels of measurement have different properties\n",
      "and limitations that impact the type of analysis that can be conducted,\n",
      "as well as the conclusions that can be drawn from the data.\n",
      "\n",
      "For example, if a researcher is analyzing data on a nominal variable such as gender\n"
     ]
    }
   ],
   "source": [
    "print(\"\"\"It is important to understand the level of measurement when \n",
    "analyzing data because it determines the type of statistical analysis that can \n",
    "be performed on the data. Different levels of measurement have different properties\n",
    "and limitations that impact the type of analysis that can be conducted,\n",
    "as well as the conclusions that can be drawn from the data.\n",
    "\n",
    "For example, if a researcher is analyzing data on a nominal variable such as gender\"\"\")"
   ]
  },
  {
   "cell_type": "markdown",
   "id": "54489077-91aa-4073-871e-0a65b74f6cd5",
   "metadata": {},
   "source": [
    "Q7. How nominal data type is different from ordinal data type."
   ]
  },
  {
   "cell_type": "code",
   "execution_count": 5,
   "id": "bab60dc5-a9b8-4fd6-9ce9-c539ddb71eda",
   "metadata": {},
   "outputs": [
    {
     "name": "stdout",
     "output_type": "stream",
     "text": [
      "Nominal data is classified without a natural order \n",
      "or rank, whereas ordinal data has a predetermined or natural order\n"
     ]
    }
   ],
   "source": [
    "print(\"\"\"Nominal data is classified without a natural order \n",
    "or rank, whereas ordinal data has a predetermined or natural order\"\"\")"
   ]
  },
  {
   "cell_type": "markdown",
   "id": "ee15fda2-5480-45ae-a927-61ece7a222f2",
   "metadata": {},
   "source": [
    "Q8. Which type of plot can be used to display data in terms of range?"
   ]
  },
  {
   "cell_type": "code",
   "execution_count": 1,
   "id": "c5cd6763-fb46-4913-baaa-314db1aa80c1",
   "metadata": {},
   "outputs": [
    {
     "name": "stdout",
     "output_type": "stream",
     "text": [
      "A box plot 'also known as a box-and-whisker plot'\n",
      "can be used to display data in terms of range.\n"
     ]
    }
   ],
   "source": [
    "print(\"\"\"A box plot 'also known as a box-and-whisker plot'\n",
    "can be used to display data in terms of range.\"\"\")"
   ]
  },
  {
   "cell_type": "markdown",
   "id": "510dedfc-bbe3-4441-8601-dfcf90f810e7",
   "metadata": {},
   "source": [
    "Q9. Describe the difference between descriptive and inferential statistics. Give an example of each\n",
    "type of statistics and explain how they are used."
   ]
  },
  {
   "cell_type": "code",
   "execution_count": 3,
   "id": "f4d373c3-c064-4e1a-ad23-bf70993d2f65",
   "metadata": {},
   "outputs": [
    {
     "name": "stdout",
     "output_type": "stream",
     "text": [
      "Descriptive statistics summarize the characteristics\n",
      "of a data set.\n",
      "fo example=\n",
      "mean value of age in the class student\n",
      " Inferential\n",
      "statistics allow you to test a hypothesis\n",
      "or assess whether your data is generalizable to the broader\n",
      "for exaple =\n",
      "stock market pridiction based on data  \n"
     ]
    }
   ],
   "source": [
    "print(\"\"\"Descriptive statistics summarize the characteristics\n",
    "of a data set.\n",
    "fo example=\n",
    "mean value of age in the class student\n",
    " Inferential\n",
    "statistics allow you to test a hypothesis\n",
    "or assess whether your data is generalizable to the broader\n",
    "for exaple =\n",
    "stock market pridiction based on data  \"\"\")"
   ]
  },
  {
   "cell_type": "markdown",
   "id": "9e4876a3-4aa3-4159-ae96-76aa0f09a3e5",
   "metadata": {},
   "source": [
    "Q10. What are some common measures of central tendency and variability used in statistics? Explain\n",
    "how each measure can be used to describe a dataset."
   ]
  },
  {
   "cell_type": "code",
   "execution_count": 4,
   "id": "28f77853-1d96-4458-b725-c0e6723f9b29",
   "metadata": {},
   "outputs": [
    {
     "name": "stdout",
     "output_type": "stream",
     "text": [
      "Mean: The mean is the sum of all data points divided by the number of data points\n",
      "                    Median: The median is the middle value of a dataset when it is arranged in order from smallest to largest\n",
      "                    Mode: The mode is the most frequently occurring value in a dataset.\n",
      "                    Range: The range is the difference between the maximum and minimum values in a dataset\n",
      "                    Interquartile Range (IQR): The IQR is the difference between the first and third quartiles of a dataset. \n"
     ]
    }
   ],
   "source": [
    "print(\"\"\"Mean: The mean is the sum of all data points divided by the number of data points\n",
    "                    Median: The median is the middle value of a dataset when it is arranged in order from smallest to largest\n",
    "                    Mode: The mode is the most frequently occurring value in a dataset.\n",
    "                    Range: The range is the difference between the maximum and minimum values in a dataset\n",
    "                    Interquartile Range (IQR): The IQR is the difference between the first and third quartiles of a dataset. \"\"\")"
   ]
  },
  {
   "cell_type": "code",
   "execution_count": null,
   "id": "55ef928a-2881-402b-91f2-77c7eca9ff13",
   "metadata": {},
   "outputs": [],
   "source": []
  }
 ],
 "metadata": {
  "kernelspec": {
   "display_name": "Python 3 (ipykernel)",
   "language": "python",
   "name": "python3"
  },
  "language_info": {
   "codemirror_mode": {
    "name": "ipython",
    "version": 3
   },
   "file_extension": ".py",
   "mimetype": "text/x-python",
   "name": "python",
   "nbconvert_exporter": "python",
   "pygments_lexer": "ipython3",
   "version": "3.10.8"
  }
 },
 "nbformat": 4,
 "nbformat_minor": 5
}
